{
  "nbformat": 4,
  "nbformat_minor": 0,
  "metadata": {
    "colab": {
      "name": "Copy of 이젠 완성 거의",
      "provenance": [],
      "collapsed_sections": [
        "8IcxeCjMW-Lr",
        "BqG2G2bdW5w2",
        "s9wOqbiQdh0Z",
        "M_DEb9ZHdnf7",
        "X-JccJkBdqpY",
        "PVsYD3aydtgu",
        "GFFjsn8MQ70i",
        "-THpJVXbj_6U",
        "MBoD2Sfe8_6P",
        "cM3mo6Ng9IvH",
        "2U5KjwZYP0Dv",
        "XaztDQ9iQODj",
        "faYrZSIoiGap"
      ],
      "mount_file_id": "1Oj2oaGW2yo08J8ZY6Gv4oAFM1QjePMlT",
      "authorship_tag": "ABX9TyMRXulQVyecriXZscNwwaF5",
      "include_colab_link": true
    },
    "kernelspec": {
      "name": "python3",
      "display_name": "Python 3"
    },
    "accelerator": "TPU"
  },
  "cells": [
    {
      "cell_type": "markdown",
      "metadata": {
        "id": "view-in-github",
        "colab_type": "text"
      },
      "source": [
        "<a href=\"https://colab.research.google.com/github/yjyjyjcho/graduation-paper_PNU/blob/master/Copy_of_%EC%9D%B4%EC%A0%A0_%EC%99%84%EC%84%B1_%EA%B1%B0%EC%9D%98.ipynb\" target=\"_parent\"><img src=\"https://colab.research.google.com/assets/colab-badge.svg\" alt=\"Open In Colab\"/></a>"
      ]
    },
    {
      "cell_type": "code",
      "metadata": {
        "id": "J6fVzBmKkZyr",
        "colab_type": "code",
        "colab": {}
      },
      "source": [
        "## library import ##\n",
        "import numpy as np\n",
        "import pandas as pd\n",
        "import seaborn as sns\n",
        "import matplotlib.pyplot as plt\n",
        "from sklearn.tree import DecisionTreeClassifier, export_graphviz\n",
        "\n",
        "from sklearn.ensemble import RandomForestClassifier\n",
        "from sklearn.model_selection import train_test_split\n",
        "from sklearn.preprocessing import LabelEncoder\n",
        "from sklearn import preprocessing\n",
        "from sklearn.model_selection import KFold\n",
        "from sklearn.model_selection import GridSearchCV\n",
        "from sklearn.model_selection import cross_val_score\n",
        "from sklearn.preprocessing import LabelEncoder\n",
        "from sklearn.tree import DecisionTreeClassifier\n",
        "from sklearn.ensemble import AdaBoostClassifier\n",
        "from sklearn.ensemble import GradientBoostingClassifier\n",
        "from sklearn import metrics\n",
        "import gc # for deleting unused variables\n",
        "\n",
        "\n",
        "import xgboost as xgb\n",
        "from xgboost import XGBClassifier\n",
        "from xgboost import plot_importance\n",
        "from sklearn.metrics import accuracy_score, f1_score, roc_auc_score\n",
        "import os\n",
        "for dirname, _, filenames in os.walk('/kaggle/input'):\n",
        "    for filename in filenames:\n",
        "        print(os.path.join(dirname, filename))\n",
        "        \n",
        "import warnings\n",
        "warnings.filterwarnings(\"ignore\", category=FutureWarning)\n"
      ],
      "execution_count": null,
      "outputs": []
    },
    {
      "cell_type": "markdown",
      "metadata": {
        "id": "xy2zGo90l9_W",
        "colab_type": "text"
      },
      "source": [
        "# **train data 데이터 탐색**"
      ]
    },
    {
      "cell_type": "code",
      "metadata": {
        "id": "ElHYznZdhA3z",
        "colab_type": "code",
        "colab": {
          "base_uri": "https://localhost:8080/"
        },
        "outputId": "0a3084b0-796f-4c84-ed5e-627cf390a689"
      },
      "source": [
        "# data import #\n",
        "experiment_result = pd.read_csv(\"train.csv\", sep = '\\t')\n",
        "\n",
        "print(experiment_result.shape)\n",
        "print(\"-----------------------------------------------------------------------------------------------------------------------------------\")\n",
        "print(\"---------------------------------------------------------------------------------------------------------------------------------\")\n",
        "print(experiment_result.info())\n",
        "\n",
        "\n",
        "print(\"-----------------------------------------------------------------------------------------------------------------------------------\")\n",
        "print(\"-----------------------------------------------------------------------------------------------------------------------------------\")\n",
        "print(\"\\n\")\n",
        "\n",
        "print(experiment_result.columns)\n",
        "print(\"-----------------------------------------------------------------------------------------------------------------------------------\")\n",
        "print(experiment_result.index)"
      ],
      "execution_count": null,
      "outputs": [
        {
          "output_type": "stream",
          "text": [
            "(18, 1)\n",
            "-----------------------------------------------------------------------------------------------------------------------------------\n",
            "---------------------------------------------------------------------------------------------------------------------------------\n",
            "<class 'pandas.core.frame.DataFrame'>\n",
            "RangeIndex: 18 entries, 0 to 17\n",
            "Data columns (total 1 columns):\n",
            " #   Column                                                                                           Non-Null Count  Dtype \n",
            "---  ------                                                                                           --------------  ----- \n",
            " 0   No,material,feedrate,clamp_pressure,tool_condition,machining_finalized,passed_visual_inspection  18 non-null     object\n",
            "dtypes: object(1)\n",
            "memory usage: 272.0+ bytes\n",
            "None\n",
            "-----------------------------------------------------------------------------------------------------------------------------------\n",
            "-----------------------------------------------------------------------------------------------------------------------------------\n",
            "\n",
            "\n",
            "Index(['No,material,feedrate,clamp_pressure,tool_condition,machining_finalized,passed_visual_inspection'], dtype='object')\n",
            "-----------------------------------------------------------------------------------------------------------------------------------\n",
            "RangeIndex(start=0, stop=18, step=1)\n"
          ],
          "name": "stdout"
        }
      ]
    },
    {
      "cell_type": "code",
      "metadata": {
        "id": "EDtzE31ujxDP",
        "colab_type": "code",
        "cellView": "code",
        "colab": {
          "base_uri": "https://localhost:8080/"
        },
        "outputId": "3390a854-a55d-46e5-ef81-c62c2cac10f9"
      },
      "source": [
        "## data import ##\n",
        "experiment_result = pd.read_csv(\"train.csv\")\n",
        "experiment_result = experiment_result.fillna('no') ## 결측치 -> no 로 처리 \n",
        "experiment_result.head()\n"
      ],
      "execution_count": null,
      "outputs": [
        {
          "output_type": "execute_result",
          "data": {
            "text/html": [
              "<div>\n",
              "<style scoped>\n",
              "    .dataframe tbody tr th:only-of-type {\n",
              "        vertical-align: middle;\n",
              "    }\n",
              "\n",
              "    .dataframe tbody tr th {\n",
              "        vertical-align: top;\n",
              "    }\n",
              "\n",
              "    .dataframe thead th {\n",
              "        text-align: right;\n",
              "    }\n",
              "</style>\n",
              "<table border=\"1\" class=\"dataframe\">\n",
              "  <thead>\n",
              "    <tr style=\"text-align: right;\">\n",
              "      <th></th>\n",
              "      <th>No</th>\n",
              "      <th>material</th>\n",
              "      <th>feedrate</th>\n",
              "      <th>clamp_pressure</th>\n",
              "      <th>tool_condition</th>\n",
              "      <th>machining_finalized</th>\n",
              "      <th>passed_visual_inspection</th>\n",
              "    </tr>\n",
              "  </thead>\n",
              "  <tbody>\n",
              "    <tr>\n",
              "      <th>0</th>\n",
              "      <td>1</td>\n",
              "      <td>wax</td>\n",
              "      <td>6</td>\n",
              "      <td>4.0</td>\n",
              "      <td>unworn</td>\n",
              "      <td>yes</td>\n",
              "      <td>yes</td>\n",
              "    </tr>\n",
              "    <tr>\n",
              "      <th>1</th>\n",
              "      <td>2</td>\n",
              "      <td>wax</td>\n",
              "      <td>20</td>\n",
              "      <td>4.0</td>\n",
              "      <td>unworn</td>\n",
              "      <td>yes</td>\n",
              "      <td>yes</td>\n",
              "    </tr>\n",
              "    <tr>\n",
              "      <th>2</th>\n",
              "      <td>3</td>\n",
              "      <td>wax</td>\n",
              "      <td>6</td>\n",
              "      <td>3.0</td>\n",
              "      <td>unworn</td>\n",
              "      <td>yes</td>\n",
              "      <td>yes</td>\n",
              "    </tr>\n",
              "    <tr>\n",
              "      <th>3</th>\n",
              "      <td>4</td>\n",
              "      <td>wax</td>\n",
              "      <td>6</td>\n",
              "      <td>2.5</td>\n",
              "      <td>unworn</td>\n",
              "      <td>no</td>\n",
              "      <td>no</td>\n",
              "    </tr>\n",
              "    <tr>\n",
              "      <th>4</th>\n",
              "      <td>5</td>\n",
              "      <td>wax</td>\n",
              "      <td>20</td>\n",
              "      <td>3.0</td>\n",
              "      <td>unworn</td>\n",
              "      <td>no</td>\n",
              "      <td>no</td>\n",
              "    </tr>\n",
              "  </tbody>\n",
              "</table>\n",
              "</div>"
            ],
            "text/plain": [
              "   No material  ...  machining_finalized  passed_visual_inspection\n",
              "0   1      wax  ...                  yes                       yes\n",
              "1   2      wax  ...                  yes                       yes\n",
              "2   3      wax  ...                  yes                       yes\n",
              "3   4      wax  ...                   no                        no\n",
              "4   5      wax  ...                   no                        no\n",
              "\n",
              "[5 rows x 7 columns]"
            ]
          },
          "metadata": {
            "tags": []
          },
          "execution_count": 686
        }
      ]
    },
    {
      "cell_type": "code",
      "metadata": {
        "id": "2FQu5C8bjLr6",
        "colab_type": "code",
        "colab": {
          "base_uri": "https://localhost:8080/"
        },
        "outputId": "0d48666a-5775-4261-a75b-068b2a16a1c1"
      },
      "source": [
        "experiment_result['feedrate'] = experiment_result['feedrate'].astype(int) # object형을 int로 변환\n",
        "experiment_result.describe() #수치형 기초 통계량 확인"
      ],
      "execution_count": null,
      "outputs": [
        {
          "output_type": "execute_result",
          "data": {
            "text/html": [
              "<div>\n",
              "<style scoped>\n",
              "    .dataframe tbody tr th:only-of-type {\n",
              "        vertical-align: middle;\n",
              "    }\n",
              "\n",
              "    .dataframe tbody tr th {\n",
              "        vertical-align: top;\n",
              "    }\n",
              "\n",
              "    .dataframe thead th {\n",
              "        text-align: right;\n",
              "    }\n",
              "</style>\n",
              "<table border=\"1\" class=\"dataframe\">\n",
              "  <thead>\n",
              "    <tr style=\"text-align: right;\">\n",
              "      <th></th>\n",
              "      <th>No</th>\n",
              "      <th>feedrate</th>\n",
              "      <th>clamp_pressure</th>\n",
              "    </tr>\n",
              "  </thead>\n",
              "  <tbody>\n",
              "    <tr>\n",
              "      <th>count</th>\n",
              "      <td>18.000000</td>\n",
              "      <td>18.000000</td>\n",
              "      <td>18.000000</td>\n",
              "    </tr>\n",
              "    <tr>\n",
              "      <th>mean</th>\n",
              "      <td>9.500000</td>\n",
              "      <td>9.722222</td>\n",
              "      <td>3.416667</td>\n",
              "    </tr>\n",
              "    <tr>\n",
              "      <th>std</th>\n",
              "      <td>5.338539</td>\n",
              "      <td>7.282578</td>\n",
              "      <td>0.624264</td>\n",
              "    </tr>\n",
              "    <tr>\n",
              "      <th>min</th>\n",
              "      <td>1.000000</td>\n",
              "      <td>3.000000</td>\n",
              "      <td>2.500000</td>\n",
              "    </tr>\n",
              "    <tr>\n",
              "      <th>25%</th>\n",
              "      <td>5.250000</td>\n",
              "      <td>3.000000</td>\n",
              "      <td>3.000000</td>\n",
              "    </tr>\n",
              "    <tr>\n",
              "      <th>50%</th>\n",
              "      <td>9.500000</td>\n",
              "      <td>6.000000</td>\n",
              "      <td>3.500000</td>\n",
              "    </tr>\n",
              "    <tr>\n",
              "      <th>75%</th>\n",
              "      <td>13.750000</td>\n",
              "      <td>18.750000</td>\n",
              "      <td>4.000000</td>\n",
              "    </tr>\n",
              "    <tr>\n",
              "      <th>max</th>\n",
              "      <td>18.000000</td>\n",
              "      <td>20.000000</td>\n",
              "      <td>4.000000</td>\n",
              "    </tr>\n",
              "  </tbody>\n",
              "</table>\n",
              "</div>"
            ],
            "text/plain": [
              "              No   feedrate  clamp_pressure\n",
              "count  18.000000  18.000000       18.000000\n",
              "mean    9.500000   9.722222        3.416667\n",
              "std     5.338539   7.282578        0.624264\n",
              "min     1.000000   3.000000        2.500000\n",
              "25%     5.250000   3.000000        3.000000\n",
              "50%     9.500000   6.000000        3.500000\n",
              "75%    13.750000  18.750000        4.000000\n",
              "max    18.000000  20.000000        4.000000"
            ]
          },
          "metadata": {
            "tags": []
          },
          "execution_count": 687
        }
      ]
    },
    {
      "cell_type": "markdown",
      "metadata": {
        "id": "HEry0OYanPZy",
        "colab_type": "text"
      },
      "source": [
        "# **experiment_01 데이터 탐색**"
      ]
    },
    {
      "cell_type": "code",
      "metadata": {
        "id": "sNxBXspBj1u9",
        "colab_type": "code",
        "colab": {
          "base_uri": "https://localhost:8080/"
        },
        "outputId": "5639b60f-9f70-4356-d614-b8a41567a0f1"
      },
      "source": [
        "experiment_01 = pd.read_csv(\"experiment_01.csv\")\n",
        "print(experiment_01.columns)\n",
        "experiment_01.head()\n"
      ],
      "execution_count": null,
      "outputs": [
        {
          "output_type": "stream",
          "text": [
            "Index(['X1_ActualPosition', 'X1_ActualVelocity', 'X1_ActualAcceleration',\n",
            "       'X1_CommandPosition', 'X1_CommandVelocity', 'X1_CommandAcceleration',\n",
            "       'X1_CurrentFeedback', 'X1_DCBusVoltage', 'X1_OutputCurrent',\n",
            "       'X1_OutputVoltage', 'X1_OutputPower', 'Y1_ActualPosition',\n",
            "       'Y1_ActualVelocity', 'Y1_ActualAcceleration', 'Y1_CommandPosition',\n",
            "       'Y1_CommandVelocity', 'Y1_CommandAcceleration', 'Y1_CurrentFeedback',\n",
            "       'Y1_DCBusVoltage', 'Y1_OutputCurrent', 'Y1_OutputVoltage',\n",
            "       'Y1_OutputPower', 'Z1_ActualPosition', 'Z1_ActualVelocity',\n",
            "       'Z1_ActualAcceleration', 'Z1_CommandPosition', 'Z1_CommandVelocity',\n",
            "       'Z1_CommandAcceleration', 'Z1_CurrentFeedback', 'Z1_DCBusVoltage',\n",
            "       'Z1_OutputCurrent', 'Z1_OutputVoltage', 'S1_ActualPosition',\n",
            "       'S1_ActualVelocity', 'S1_ActualAcceleration', 'S1_CommandPosition',\n",
            "       'S1_CommandVelocity', 'S1_CommandAcceleration', 'S1_CurrentFeedback',\n",
            "       'S1_DCBusVoltage', 'S1_OutputCurrent', 'S1_OutputVoltage',\n",
            "       'S1_OutputPower', 'S1_SystemInertia', 'M1_CURRENT_PROGRAM_NUMBER',\n",
            "       'M1_sequence_number', 'M1_CURRENT_FEEDRATE', 'Machining_Process'],\n",
            "      dtype='object')\n"
          ],
          "name": "stdout"
        },
        {
          "output_type": "execute_result",
          "data": {
            "text/html": [
              "<div>\n",
              "<style scoped>\n",
              "    .dataframe tbody tr th:only-of-type {\n",
              "        vertical-align: middle;\n",
              "    }\n",
              "\n",
              "    .dataframe tbody tr th {\n",
              "        vertical-align: top;\n",
              "    }\n",
              "\n",
              "    .dataframe thead th {\n",
              "        text-align: right;\n",
              "    }\n",
              "</style>\n",
              "<table border=\"1\" class=\"dataframe\">\n",
              "  <thead>\n",
              "    <tr style=\"text-align: right;\">\n",
              "      <th></th>\n",
              "      <th>X1_ActualPosition</th>\n",
              "      <th>X1_ActualVelocity</th>\n",
              "      <th>X1_ActualAcceleration</th>\n",
              "      <th>X1_CommandPosition</th>\n",
              "      <th>X1_CommandVelocity</th>\n",
              "      <th>X1_CommandAcceleration</th>\n",
              "      <th>X1_CurrentFeedback</th>\n",
              "      <th>X1_DCBusVoltage</th>\n",
              "      <th>X1_OutputCurrent</th>\n",
              "      <th>X1_OutputVoltage</th>\n",
              "      <th>X1_OutputPower</th>\n",
              "      <th>Y1_ActualPosition</th>\n",
              "      <th>Y1_ActualVelocity</th>\n",
              "      <th>Y1_ActualAcceleration</th>\n",
              "      <th>Y1_CommandPosition</th>\n",
              "      <th>Y1_CommandVelocity</th>\n",
              "      <th>Y1_CommandAcceleration</th>\n",
              "      <th>Y1_CurrentFeedback</th>\n",
              "      <th>Y1_DCBusVoltage</th>\n",
              "      <th>Y1_OutputCurrent</th>\n",
              "      <th>Y1_OutputVoltage</th>\n",
              "      <th>Y1_OutputPower</th>\n",
              "      <th>Z1_ActualPosition</th>\n",
              "      <th>Z1_ActualVelocity</th>\n",
              "      <th>Z1_ActualAcceleration</th>\n",
              "      <th>Z1_CommandPosition</th>\n",
              "      <th>Z1_CommandVelocity</th>\n",
              "      <th>Z1_CommandAcceleration</th>\n",
              "      <th>Z1_CurrentFeedback</th>\n",
              "      <th>Z1_DCBusVoltage</th>\n",
              "      <th>Z1_OutputCurrent</th>\n",
              "      <th>Z1_OutputVoltage</th>\n",
              "      <th>S1_ActualPosition</th>\n",
              "      <th>S1_ActualVelocity</th>\n",
              "      <th>S1_ActualAcceleration</th>\n",
              "      <th>S1_CommandPosition</th>\n",
              "      <th>S1_CommandVelocity</th>\n",
              "      <th>S1_CommandAcceleration</th>\n",
              "      <th>S1_CurrentFeedback</th>\n",
              "      <th>S1_DCBusVoltage</th>\n",
              "      <th>S1_OutputCurrent</th>\n",
              "      <th>S1_OutputVoltage</th>\n",
              "      <th>S1_OutputPower</th>\n",
              "      <th>S1_SystemInertia</th>\n",
              "      <th>M1_CURRENT_PROGRAM_NUMBER</th>\n",
              "      <th>M1_sequence_number</th>\n",
              "      <th>M1_CURRENT_FEEDRATE</th>\n",
              "      <th>Machining_Process</th>\n",
              "    </tr>\n",
              "  </thead>\n",
              "  <tbody>\n",
              "    <tr>\n",
              "      <th>0</th>\n",
              "      <td>198.0</td>\n",
              "      <td>0.0</td>\n",
              "      <td>0.00</td>\n",
              "      <td>198.0</td>\n",
              "      <td>0.0</td>\n",
              "      <td>0.000000</td>\n",
              "      <td>0.18</td>\n",
              "      <td>0.0207</td>\n",
              "      <td>329.0</td>\n",
              "      <td>2.77</td>\n",
              "      <td>-0.000001</td>\n",
              "      <td>158.0</td>\n",
              "      <td>-0.025</td>\n",
              "      <td>-6.25</td>\n",
              "      <td>158.0</td>\n",
              "      <td>0.0</td>\n",
              "      <td>0.000000</td>\n",
              "      <td>0.539</td>\n",
              "      <td>0.0167</td>\n",
              "      <td>328.0</td>\n",
              "      <td>1.84</td>\n",
              "      <td>6.430000e-07</td>\n",
              "      <td>119.0</td>\n",
              "      <td>0.0</td>\n",
              "      <td>0.00</td>\n",
              "      <td>119.0</td>\n",
              "      <td>0.0</td>\n",
              "      <td>0.000000</td>\n",
              "      <td>0.0</td>\n",
              "      <td>0.0</td>\n",
              "      <td>0.0</td>\n",
              "      <td>0.0</td>\n",
              "      <td>-361.0</td>\n",
              "      <td>0.001</td>\n",
              "      <td>0.250</td>\n",
              "      <td>-361.0</td>\n",
              "      <td>0.0</td>\n",
              "      <td>0.0</td>\n",
              "      <td>0.524</td>\n",
              "      <td>2.740000e-19</td>\n",
              "      <td>329.0</td>\n",
              "      <td>0.0</td>\n",
              "      <td>6.960000e-07</td>\n",
              "      <td>12.0</td>\n",
              "      <td>1.0</td>\n",
              "      <td>0.0</td>\n",
              "      <td>50.0</td>\n",
              "      <td>Starting</td>\n",
              "    </tr>\n",
              "    <tr>\n",
              "      <th>1</th>\n",
              "      <td>198.0</td>\n",
              "      <td>-10.8</td>\n",
              "      <td>-350.00</td>\n",
              "      <td>198.0</td>\n",
              "      <td>-13.6</td>\n",
              "      <td>-358.000000</td>\n",
              "      <td>-10.90</td>\n",
              "      <td>0.1860</td>\n",
              "      <td>328.0</td>\n",
              "      <td>23.30</td>\n",
              "      <td>0.004480</td>\n",
              "      <td>158.0</td>\n",
              "      <td>-19.800</td>\n",
              "      <td>-750.00</td>\n",
              "      <td>157.0</td>\n",
              "      <td>-24.6</td>\n",
              "      <td>-647.000000</td>\n",
              "      <td>-14.500</td>\n",
              "      <td>0.2810</td>\n",
              "      <td>325.0</td>\n",
              "      <td>37.80</td>\n",
              "      <td>1.260000e-02</td>\n",
              "      <td>119.0</td>\n",
              "      <td>-20.3</td>\n",
              "      <td>-712.00</td>\n",
              "      <td>118.0</td>\n",
              "      <td>-25.6</td>\n",
              "      <td>-674.000000</td>\n",
              "      <td>0.0</td>\n",
              "      <td>0.0</td>\n",
              "      <td>0.0</td>\n",
              "      <td>0.0</td>\n",
              "      <td>-361.0</td>\n",
              "      <td>0.000</td>\n",
              "      <td>0.250</td>\n",
              "      <td>-361.0</td>\n",
              "      <td>0.0</td>\n",
              "      <td>0.0</td>\n",
              "      <td>-0.288</td>\n",
              "      <td>2.740000e-19</td>\n",
              "      <td>328.0</td>\n",
              "      <td>0.0</td>\n",
              "      <td>-5.270000e-07</td>\n",
              "      <td>12.0</td>\n",
              "      <td>1.0</td>\n",
              "      <td>4.0</td>\n",
              "      <td>50.0</td>\n",
              "      <td>Prep</td>\n",
              "    </tr>\n",
              "    <tr>\n",
              "      <th>2</th>\n",
              "      <td>196.0</td>\n",
              "      <td>-17.8</td>\n",
              "      <td>-6.25</td>\n",
              "      <td>196.0</td>\n",
              "      <td>-17.9</td>\n",
              "      <td>-0.000095</td>\n",
              "      <td>-8.59</td>\n",
              "      <td>0.1400</td>\n",
              "      <td>328.0</td>\n",
              "      <td>30.60</td>\n",
              "      <td>0.005330</td>\n",
              "      <td>154.0</td>\n",
              "      <td>-32.500</td>\n",
              "      <td>0.00</td>\n",
              "      <td>154.0</td>\n",
              "      <td>-32.3</td>\n",
              "      <td>-0.000095</td>\n",
              "      <td>-7.790</td>\n",
              "      <td>0.1390</td>\n",
              "      <td>327.0</td>\n",
              "      <td>49.40</td>\n",
              "      <td>9.430000e-03</td>\n",
              "      <td>115.0</td>\n",
              "      <td>-33.7</td>\n",
              "      <td>37.50</td>\n",
              "      <td>115.0</td>\n",
              "      <td>-33.7</td>\n",
              "      <td>-0.000095</td>\n",
              "      <td>0.0</td>\n",
              "      <td>0.0</td>\n",
              "      <td>0.0</td>\n",
              "      <td>0.0</td>\n",
              "      <td>-361.0</td>\n",
              "      <td>0.000</td>\n",
              "      <td>-0.438</td>\n",
              "      <td>-361.0</td>\n",
              "      <td>0.0</td>\n",
              "      <td>0.0</td>\n",
              "      <td>0.524</td>\n",
              "      <td>2.740000e-19</td>\n",
              "      <td>328.0</td>\n",
              "      <td>0.0</td>\n",
              "      <td>9.100000e-07</td>\n",
              "      <td>12.0</td>\n",
              "      <td>1.0</td>\n",
              "      <td>7.0</td>\n",
              "      <td>50.0</td>\n",
              "      <td>Prep</td>\n",
              "    </tr>\n",
              "    <tr>\n",
              "      <th>3</th>\n",
              "      <td>194.0</td>\n",
              "      <td>-18.0</td>\n",
              "      <td>0.00</td>\n",
              "      <td>194.0</td>\n",
              "      <td>-17.9</td>\n",
              "      <td>-0.000095</td>\n",
              "      <td>-6.11</td>\n",
              "      <td>0.1300</td>\n",
              "      <td>327.0</td>\n",
              "      <td>30.30</td>\n",
              "      <td>0.004890</td>\n",
              "      <td>151.0</td>\n",
              "      <td>-32.600</td>\n",
              "      <td>-62.50</td>\n",
              "      <td>151.0</td>\n",
              "      <td>-32.3</td>\n",
              "      <td>-0.000095</td>\n",
              "      <td>-8.130</td>\n",
              "      <td>0.1560</td>\n",
              "      <td>325.0</td>\n",
              "      <td>47.60</td>\n",
              "      <td>1.050000e-02</td>\n",
              "      <td>112.0</td>\n",
              "      <td>-33.7</td>\n",
              "      <td>-6.25</td>\n",
              "      <td>112.0</td>\n",
              "      <td>-33.7</td>\n",
              "      <td>0.000000</td>\n",
              "      <td>0.0</td>\n",
              "      <td>0.0</td>\n",
              "      <td>0.0</td>\n",
              "      <td>0.0</td>\n",
              "      <td>-361.0</td>\n",
              "      <td>-0.001</td>\n",
              "      <td>-0.250</td>\n",
              "      <td>-361.0</td>\n",
              "      <td>0.0</td>\n",
              "      <td>0.0</td>\n",
              "      <td>-0.180</td>\n",
              "      <td>2.740000e-19</td>\n",
              "      <td>328.0</td>\n",
              "      <td>0.0</td>\n",
              "      <td>1.070000e-06</td>\n",
              "      <td>12.0</td>\n",
              "      <td>1.0</td>\n",
              "      <td>7.0</td>\n",
              "      <td>50.0</td>\n",
              "      <td>Prep</td>\n",
              "    </tr>\n",
              "    <tr>\n",
              "      <th>4</th>\n",
              "      <td>193.0</td>\n",
              "      <td>-17.9</td>\n",
              "      <td>-18.80</td>\n",
              "      <td>192.0</td>\n",
              "      <td>-17.9</td>\n",
              "      <td>0.000095</td>\n",
              "      <td>-5.70</td>\n",
              "      <td>0.1140</td>\n",
              "      <td>328.0</td>\n",
              "      <td>30.50</td>\n",
              "      <td>0.004250</td>\n",
              "      <td>148.0</td>\n",
              "      <td>-32.000</td>\n",
              "      <td>138.00</td>\n",
              "      <td>148.0</td>\n",
              "      <td>-32.3</td>\n",
              "      <td>0.000095</td>\n",
              "      <td>-13.800</td>\n",
              "      <td>0.2020</td>\n",
              "      <td>326.0</td>\n",
              "      <td>47.10</td>\n",
              "      <td>1.350000e-02</td>\n",
              "      <td>109.0</td>\n",
              "      <td>-33.6</td>\n",
              "      <td>18.80</td>\n",
              "      <td>108.0</td>\n",
              "      <td>-33.7</td>\n",
              "      <td>0.000000</td>\n",
              "      <td>0.0</td>\n",
              "      <td>0.0</td>\n",
              "      <td>0.0</td>\n",
              "      <td>0.0</td>\n",
              "      <td>-361.0</td>\n",
              "      <td>0.000</td>\n",
              "      <td>-0.188</td>\n",
              "      <td>-361.0</td>\n",
              "      <td>0.0</td>\n",
              "      <td>0.0</td>\n",
              "      <td>0.226</td>\n",
              "      <td>2.740000e-19</td>\n",
              "      <td>328.0</td>\n",
              "      <td>0.0</td>\n",
              "      <td>1.960000e-06</td>\n",
              "      <td>12.0</td>\n",
              "      <td>1.0</td>\n",
              "      <td>7.0</td>\n",
              "      <td>50.0</td>\n",
              "      <td>Prep</td>\n",
              "    </tr>\n",
              "  </tbody>\n",
              "</table>\n",
              "</div>"
            ],
            "text/plain": [
              "   X1_ActualPosition  X1_ActualVelocity  ...  M1_CURRENT_FEEDRATE  Machining_Process\n",
              "0              198.0                0.0  ...                 50.0           Starting\n",
              "1              198.0              -10.8  ...                 50.0               Prep\n",
              "2              196.0              -17.8  ...                 50.0               Prep\n",
              "3              194.0              -18.0  ...                 50.0               Prep\n",
              "4              193.0              -17.9  ...                 50.0               Prep\n",
              "\n",
              "[5 rows x 48 columns]"
            ]
          },
          "metadata": {
            "tags": []
          },
          "execution_count": 688
        }
      ]
    },
    {
      "cell_type": "code",
      "metadata": {
        "id": "VLpXArREEGLW",
        "colab_type": "code",
        "colab": {
          "base_uri": "https://localhost:8080/"
        },
        "outputId": "9fd0d11c-0ca4-40fe-fb36-0ee42c470dcb"
      },
      "source": [
        "print(experiment_01.shape)\n",
        "print(\"-----------------------------------------------------------------------------------------------------------------------------------\")\n",
        "print(\"---------------------------------------------------------------------------------------------------------------------------------\")\n",
        "print(experiment_01.info())\n",
        "\n",
        "\n",
        "print(\"-----------------------------------------------------------------------------------------------------------------------------------\")\n",
        "print(\"-----------------------------------------------------------------------------------------------------------------------------------\")\n",
        "print(\"\\n\")\n",
        "\n",
        "print(experiment_01.columns)\n",
        "print(\"-----------------------------------------------------------------------------------------------------------------------------------\")\n",
        "print(experiment_01.index)"
      ],
      "execution_count": null,
      "outputs": [
        {
          "output_type": "stream",
          "text": [
            "(1055, 48)\n",
            "-----------------------------------------------------------------------------------------------------------------------------------\n",
            "---------------------------------------------------------------------------------------------------------------------------------\n",
            "<class 'pandas.core.frame.DataFrame'>\n",
            "RangeIndex: 1055 entries, 0 to 1054\n",
            "Data columns (total 48 columns):\n",
            " #   Column                     Non-Null Count  Dtype  \n",
            "---  ------                     --------------  -----  \n",
            " 0   X1_ActualPosition          1055 non-null   float64\n",
            " 1   X1_ActualVelocity          1055 non-null   float64\n",
            " 2   X1_ActualAcceleration      1055 non-null   float64\n",
            " 3   X1_CommandPosition         1055 non-null   float64\n",
            " 4   X1_CommandVelocity         1055 non-null   float64\n",
            " 5   X1_CommandAcceleration     1055 non-null   float64\n",
            " 6   X1_CurrentFeedback         1055 non-null   float64\n",
            " 7   X1_DCBusVoltage            1055 non-null   float64\n",
            " 8   X1_OutputCurrent           1055 non-null   float64\n",
            " 9   X1_OutputVoltage           1055 non-null   float64\n",
            " 10  X1_OutputPower             1055 non-null   float64\n",
            " 11  Y1_ActualPosition          1055 non-null   float64\n",
            " 12  Y1_ActualVelocity          1055 non-null   float64\n",
            " 13  Y1_ActualAcceleration      1055 non-null   float64\n",
            " 14  Y1_CommandPosition         1055 non-null   float64\n",
            " 15  Y1_CommandVelocity         1055 non-null   float64\n",
            " 16  Y1_CommandAcceleration     1055 non-null   float64\n",
            " 17  Y1_CurrentFeedback         1055 non-null   float64\n",
            " 18  Y1_DCBusVoltage            1055 non-null   float64\n",
            " 19  Y1_OutputCurrent           1055 non-null   float64\n",
            " 20  Y1_OutputVoltage           1055 non-null   float64\n",
            " 21  Y1_OutputPower             1055 non-null   float64\n",
            " 22  Z1_ActualPosition          1055 non-null   float64\n",
            " 23  Z1_ActualVelocity          1055 non-null   float64\n",
            " 24  Z1_ActualAcceleration      1055 non-null   float64\n",
            " 25  Z1_CommandPosition         1055 non-null   float64\n",
            " 26  Z1_CommandVelocity         1055 non-null   float64\n",
            " 27  Z1_CommandAcceleration     1055 non-null   float64\n",
            " 28  Z1_CurrentFeedback         1055 non-null   float64\n",
            " 29  Z1_DCBusVoltage            1055 non-null   float64\n",
            " 30  Z1_OutputCurrent           1055 non-null   float64\n",
            " 31  Z1_OutputVoltage           1055 non-null   float64\n",
            " 32  S1_ActualPosition          1055 non-null   float64\n",
            " 33  S1_ActualVelocity          1055 non-null   float64\n",
            " 34  S1_ActualAcceleration      1055 non-null   float64\n",
            " 35  S1_CommandPosition         1055 non-null   float64\n",
            " 36  S1_CommandVelocity         1055 non-null   float64\n",
            " 37  S1_CommandAcceleration     1055 non-null   float64\n",
            " 38  S1_CurrentFeedback         1055 non-null   float64\n",
            " 39  S1_DCBusVoltage            1055 non-null   float64\n",
            " 40  S1_OutputCurrent           1055 non-null   float64\n",
            " 41  S1_OutputVoltage           1055 non-null   float64\n",
            " 42  S1_OutputPower             1055 non-null   float64\n",
            " 43  S1_SystemInertia           1055 non-null   float64\n",
            " 44  M1_CURRENT_PROGRAM_NUMBER  1055 non-null   float64\n",
            " 45  M1_sequence_number         1055 non-null   float64\n",
            " 46  M1_CURRENT_FEEDRATE        1055 non-null   float64\n",
            " 47  Machining_Process          1055 non-null   object \n",
            "dtypes: float64(47), object(1)\n",
            "memory usage: 395.8+ KB\n",
            "None\n",
            "-----------------------------------------------------------------------------------------------------------------------------------\n",
            "-----------------------------------------------------------------------------------------------------------------------------------\n",
            "\n",
            "\n",
            "Index(['X1_ActualPosition', 'X1_ActualVelocity', 'X1_ActualAcceleration',\n",
            "       'X1_CommandPosition', 'X1_CommandVelocity', 'X1_CommandAcceleration',\n",
            "       'X1_CurrentFeedback', 'X1_DCBusVoltage', 'X1_OutputCurrent',\n",
            "       'X1_OutputVoltage', 'X1_OutputPower', 'Y1_ActualPosition',\n",
            "       'Y1_ActualVelocity', 'Y1_ActualAcceleration', 'Y1_CommandPosition',\n",
            "       'Y1_CommandVelocity', 'Y1_CommandAcceleration', 'Y1_CurrentFeedback',\n",
            "       'Y1_DCBusVoltage', 'Y1_OutputCurrent', 'Y1_OutputVoltage',\n",
            "       'Y1_OutputPower', 'Z1_ActualPosition', 'Z1_ActualVelocity',\n",
            "       'Z1_ActualAcceleration', 'Z1_CommandPosition', 'Z1_CommandVelocity',\n",
            "       'Z1_CommandAcceleration', 'Z1_CurrentFeedback', 'Z1_DCBusVoltage',\n",
            "       'Z1_OutputCurrent', 'Z1_OutputVoltage', 'S1_ActualPosition',\n",
            "       'S1_ActualVelocity', 'S1_ActualAcceleration', 'S1_CommandPosition',\n",
            "       'S1_CommandVelocity', 'S1_CommandAcceleration', 'S1_CurrentFeedback',\n",
            "       'S1_DCBusVoltage', 'S1_OutputCurrent', 'S1_OutputVoltage',\n",
            "       'S1_OutputPower', 'S1_SystemInertia', 'M1_CURRENT_PROGRAM_NUMBER',\n",
            "       'M1_sequence_number', 'M1_CURRENT_FEEDRATE', 'Machining_Process'],\n",
            "      dtype='object')\n",
            "-----------------------------------------------------------------------------------------------------------------------------------\n",
            "RangeIndex(start=0, stop=1055, step=1)\n"
          ],
          "name": "stdout"
        }
      ]
    },
    {
      "cell_type": "code",
      "metadata": {
        "id": "GJSZa6jH3gtl",
        "colab_type": "code",
        "colab": {
          "base_uri": "https://localhost:8080/"
        },
        "outputId": "50d9845c-25df-4b95-c516-15b1d33e0890"
      },
      "source": [
        "experiment_01.describe()"
      ],
      "execution_count": null,
      "outputs": [
        {
          "output_type": "execute_result",
          "data": {
            "text/html": [
              "<div>\n",
              "<style scoped>\n",
              "    .dataframe tbody tr th:only-of-type {\n",
              "        vertical-align: middle;\n",
              "    }\n",
              "\n",
              "    .dataframe tbody tr th {\n",
              "        vertical-align: top;\n",
              "    }\n",
              "\n",
              "    .dataframe thead th {\n",
              "        text-align: right;\n",
              "    }\n",
              "</style>\n",
              "<table border=\"1\" class=\"dataframe\">\n",
              "  <thead>\n",
              "    <tr style=\"text-align: right;\">\n",
              "      <th></th>\n",
              "      <th>X1_ActualPosition</th>\n",
              "      <th>X1_ActualVelocity</th>\n",
              "      <th>X1_ActualAcceleration</th>\n",
              "      <th>X1_CommandPosition</th>\n",
              "      <th>X1_CommandVelocity</th>\n",
              "      <th>X1_CommandAcceleration</th>\n",
              "      <th>X1_CurrentFeedback</th>\n",
              "      <th>X1_DCBusVoltage</th>\n",
              "      <th>X1_OutputCurrent</th>\n",
              "      <th>X1_OutputVoltage</th>\n",
              "      <th>X1_OutputPower</th>\n",
              "      <th>Y1_ActualPosition</th>\n",
              "      <th>Y1_ActualVelocity</th>\n",
              "      <th>Y1_ActualAcceleration</th>\n",
              "      <th>Y1_CommandPosition</th>\n",
              "      <th>Y1_CommandVelocity</th>\n",
              "      <th>Y1_CommandAcceleration</th>\n",
              "      <th>Y1_CurrentFeedback</th>\n",
              "      <th>Y1_DCBusVoltage</th>\n",
              "      <th>Y1_OutputCurrent</th>\n",
              "      <th>Y1_OutputVoltage</th>\n",
              "      <th>Y1_OutputPower</th>\n",
              "      <th>Z1_ActualPosition</th>\n",
              "      <th>Z1_ActualVelocity</th>\n",
              "      <th>Z1_ActualAcceleration</th>\n",
              "      <th>Z1_CommandPosition</th>\n",
              "      <th>Z1_CommandVelocity</th>\n",
              "      <th>Z1_CommandAcceleration</th>\n",
              "      <th>Z1_CurrentFeedback</th>\n",
              "      <th>Z1_DCBusVoltage</th>\n",
              "      <th>Z1_OutputCurrent</th>\n",
              "      <th>Z1_OutputVoltage</th>\n",
              "      <th>S1_ActualPosition</th>\n",
              "      <th>S1_ActualVelocity</th>\n",
              "      <th>S1_ActualAcceleration</th>\n",
              "      <th>S1_CommandPosition</th>\n",
              "      <th>S1_CommandVelocity</th>\n",
              "      <th>S1_CommandAcceleration</th>\n",
              "      <th>S1_CurrentFeedback</th>\n",
              "      <th>S1_DCBusVoltage</th>\n",
              "      <th>S1_OutputCurrent</th>\n",
              "      <th>S1_OutputVoltage</th>\n",
              "      <th>S1_OutputPower</th>\n",
              "      <th>S1_SystemInertia</th>\n",
              "      <th>M1_CURRENT_PROGRAM_NUMBER</th>\n",
              "      <th>M1_sequence_number</th>\n",
              "      <th>M1_CURRENT_FEEDRATE</th>\n",
              "    </tr>\n",
              "  </thead>\n",
              "  <tbody>\n",
              "    <tr>\n",
              "      <th>count</th>\n",
              "      <td>1055.000000</td>\n",
              "      <td>1055.000000</td>\n",
              "      <td>1055.000000</td>\n",
              "      <td>1055.000000</td>\n",
              "      <td>1055.000000</td>\n",
              "      <td>1055.000000</td>\n",
              "      <td>1055.000000</td>\n",
              "      <td>1055.000000</td>\n",
              "      <td>1055.000000</td>\n",
              "      <td>1055.000000</td>\n",
              "      <td>1055.000000</td>\n",
              "      <td>1055.000000</td>\n",
              "      <td>1055.000000</td>\n",
              "      <td>1055.000000</td>\n",
              "      <td>1055.000000</td>\n",
              "      <td>1055.000000</td>\n",
              "      <td>1055.000000</td>\n",
              "      <td>1055.000000</td>\n",
              "      <td>1055.000000</td>\n",
              "      <td>1055.000000</td>\n",
              "      <td>1055.000000</td>\n",
              "      <td>1055.000000</td>\n",
              "      <td>1055.000000</td>\n",
              "      <td>1055.000000</td>\n",
              "      <td>1055.000000</td>\n",
              "      <td>1055.000000</td>\n",
              "      <td>1055.000000</td>\n",
              "      <td>1055.000000</td>\n",
              "      <td>1055.0</td>\n",
              "      <td>1055.0</td>\n",
              "      <td>1055.0</td>\n",
              "      <td>1055.0</td>\n",
              "      <td>1055.000000</td>\n",
              "      <td>1055.000000</td>\n",
              "      <td>1055.000000</td>\n",
              "      <td>1055.000000</td>\n",
              "      <td>1055.000000</td>\n",
              "      <td>1.055000e+03</td>\n",
              "      <td>1055.000000</td>\n",
              "      <td>1.055000e+03</td>\n",
              "      <td>1055.00000</td>\n",
              "      <td>1055.000000</td>\n",
              "      <td>1055.000000</td>\n",
              "      <td>1055.0</td>\n",
              "      <td>1055.0</td>\n",
              "      <td>1055.000000</td>\n",
              "      <td>1055.000000</td>\n",
              "    </tr>\n",
              "    <tr>\n",
              "      <th>mean</th>\n",
              "      <td>151.998104</td>\n",
              "      <td>-0.514919</td>\n",
              "      <td>4.252891</td>\n",
              "      <td>151.999052</td>\n",
              "      <td>-0.516069</td>\n",
              "      <td>0.075188</td>\n",
              "      <td>-0.382762</td>\n",
              "      <td>0.081607</td>\n",
              "      <td>325.875829</td>\n",
              "      <td>10.755812</td>\n",
              "      <td>0.000845</td>\n",
              "      <td>87.943033</td>\n",
              "      <td>-0.796882</td>\n",
              "      <td>3.437441</td>\n",
              "      <td>87.939431</td>\n",
              "      <td>-0.769510</td>\n",
              "      <td>3.003876</td>\n",
              "      <td>-0.214612</td>\n",
              "      <td>0.079335</td>\n",
              "      <td>324.390521</td>\n",
              "      <td>9.327389</td>\n",
              "      <td>0.000866</td>\n",
              "      <td>30.477915</td>\n",
              "      <td>-0.629190</td>\n",
              "      <td>0.922701</td>\n",
              "      <td>30.473649</td>\n",
              "      <td>-0.621583</td>\n",
              "      <td>1.685309</td>\n",
              "      <td>0.0</td>\n",
              "      <td>0.0</td>\n",
              "      <td>0.0</td>\n",
              "      <td>0.0</td>\n",
              "      <td>31.673403</td>\n",
              "      <td>51.686190</td>\n",
              "      <td>1.571486</td>\n",
              "      <td>32.106483</td>\n",
              "      <td>51.607678</td>\n",
              "      <td>4.739336e-01</td>\n",
              "      <td>20.508831</td>\n",
              "      <td>9.017116e-01</td>\n",
              "      <td>320.18673</td>\n",
              "      <td>114.488227</td>\n",
              "      <td>0.171890</td>\n",
              "      <td>12.0</td>\n",
              "      <td>1.0</td>\n",
              "      <td>64.144076</td>\n",
              "      <td>8.669194</td>\n",
              "    </tr>\n",
              "    <tr>\n",
              "      <th>std</th>\n",
              "      <td>8.315984</td>\n",
              "      <td>5.875864</td>\n",
              "      <td>103.299534</td>\n",
              "      <td>8.309193</td>\n",
              "      <td>5.871274</td>\n",
              "      <td>81.316778</td>\n",
              "      <td>4.936649</td>\n",
              "      <td>0.030217</td>\n",
              "      <td>0.576857</td>\n",
              "      <td>6.354004</td>\n",
              "      <td>0.001224</td>\n",
              "      <td>13.364288</td>\n",
              "      <td>6.330471</td>\n",
              "      <td>74.119863</td>\n",
              "      <td>13.349370</td>\n",
              "      <td>6.332473</td>\n",
              "      <td>80.426778</td>\n",
              "      <td>5.256363</td>\n",
              "      <td>0.045752</td>\n",
              "      <td>0.610709</td>\n",
              "      <td>8.303259</td>\n",
              "      <td>0.001941</td>\n",
              "      <td>9.469046</td>\n",
              "      <td>8.748792</td>\n",
              "      <td>92.191459</td>\n",
              "      <td>9.436641</td>\n",
              "      <td>8.820857</td>\n",
              "      <td>84.766335</td>\n",
              "      <td>0.0</td>\n",
              "      <td>0.0</td>\n",
              "      <td>0.0</td>\n",
              "      <td>0.0</td>\n",
              "      <td>1099.305051</td>\n",
              "      <td>9.098133</td>\n",
              "      <td>33.929074</td>\n",
              "      <td>1099.302404</td>\n",
              "      <td>9.219512</td>\n",
              "      <td>6.871208e+00</td>\n",
              "      <td>5.509617</td>\n",
              "      <td>2.162504e-01</td>\n",
              "      <td>2.65724</td>\n",
              "      <td>20.408309</td>\n",
              "      <td>0.037033</td>\n",
              "      <td>0.0</td>\n",
              "      <td>0.0</td>\n",
              "      <td>39.669174</td>\n",
              "      <td>10.508312</td>\n",
              "    </tr>\n",
              "    <tr>\n",
              "      <th>min</th>\n",
              "      <td>141.000000</td>\n",
              "      <td>-18.100000</td>\n",
              "      <td>-1090.000000</td>\n",
              "      <td>141.000000</td>\n",
              "      <td>-17.900000</td>\n",
              "      <td>-922.000000</td>\n",
              "      <td>-17.000000</td>\n",
              "      <td>0.016300</td>\n",
              "      <td>322.000000</td>\n",
              "      <td>0.130000</td>\n",
              "      <td>-0.004810</td>\n",
              "      <td>72.400000</td>\n",
              "      <td>-32.700000</td>\n",
              "      <td>-756.000000</td>\n",
              "      <td>72.400000</td>\n",
              "      <td>-32.300000</td>\n",
              "      <td>-875.000000</td>\n",
              "      <td>-14.600000</td>\n",
              "      <td>0.013100</td>\n",
              "      <td>322.000000</td>\n",
              "      <td>0.163000</td>\n",
              "      <td>-0.000073</td>\n",
              "      <td>27.500000</td>\n",
              "      <td>-50.100000</td>\n",
              "      <td>-1170.000000</td>\n",
              "      <td>27.500000</td>\n",
              "      <td>-50.000000</td>\n",
              "      <td>-1000.000000</td>\n",
              "      <td>0.0</td>\n",
              "      <td>0.0</td>\n",
              "      <td>0.0</td>\n",
              "      <td>0.0</td>\n",
              "      <td>-2150.000000</td>\n",
              "      <td>-0.003250</td>\n",
              "      <td>-95.000000</td>\n",
              "      <td>-2150.000000</td>\n",
              "      <td>0.000000</td>\n",
              "      <td>-9.540000e-07</td>\n",
              "      <td>-0.694000</td>\n",
              "      <td>2.740000e-19</td>\n",
              "      <td>306.00000</td>\n",
              "      <td>0.000000</td>\n",
              "      <td>-0.000001</td>\n",
              "      <td>12.0</td>\n",
              "      <td>1.0</td>\n",
              "      <td>0.000000</td>\n",
              "      <td>6.000000</td>\n",
              "    </tr>\n",
              "    <tr>\n",
              "      <th>25%</th>\n",
              "      <td>145.000000</td>\n",
              "      <td>-5.690000</td>\n",
              "      <td>-37.500000</td>\n",
              "      <td>145.000000</td>\n",
              "      <td>-5.770000</td>\n",
              "      <td>0.000000</td>\n",
              "      <td>-4.940000</td>\n",
              "      <td>0.061900</td>\n",
              "      <td>326.000000</td>\n",
              "      <td>5.885000</td>\n",
              "      <td>0.000031</td>\n",
              "      <td>74.750000</td>\n",
              "      <td>-1.500000</td>\n",
              "      <td>-25.000000</td>\n",
              "      <td>74.750000</td>\n",
              "      <td>-1.665000</td>\n",
              "      <td>0.000000</td>\n",
              "      <td>-4.510000</td>\n",
              "      <td>0.037500</td>\n",
              "      <td>324.000000</td>\n",
              "      <td>3.110000</td>\n",
              "      <td>0.000000</td>\n",
              "      <td>27.500000</td>\n",
              "      <td>0.000000</td>\n",
              "      <td>0.000000</td>\n",
              "      <td>27.500000</td>\n",
              "      <td>0.000000</td>\n",
              "      <td>0.000000</td>\n",
              "      <td>0.0</td>\n",
              "      <td>0.0</td>\n",
              "      <td>0.0</td>\n",
              "      <td>0.0</td>\n",
              "      <td>-741.500000</td>\n",
              "      <td>53.300000</td>\n",
              "      <td>-17.200000</td>\n",
              "      <td>-741.000000</td>\n",
              "      <td>53.300000</td>\n",
              "      <td>0.000000e+00</td>\n",
              "      <td>18.300000</td>\n",
              "      <td>8.375000e-01</td>\n",
              "      <td>318.00000</td>\n",
              "      <td>117.000000</td>\n",
              "      <td>0.159000</td>\n",
              "      <td>12.0</td>\n",
              "      <td>1.0</td>\n",
              "      <td>29.000000</td>\n",
              "      <td>6.000000</td>\n",
              "    </tr>\n",
              "    <tr>\n",
              "      <th>50%</th>\n",
              "      <td>151.000000</td>\n",
              "      <td>-0.050000</td>\n",
              "      <td>0.000000</td>\n",
              "      <td>151.000000</td>\n",
              "      <td>0.000000</td>\n",
              "      <td>0.000000</td>\n",
              "      <td>-1.100000</td>\n",
              "      <td>0.085800</td>\n",
              "      <td>326.000000</td>\n",
              "      <td>12.400000</td>\n",
              "      <td>0.000910</td>\n",
              "      <td>89.500000</td>\n",
              "      <td>0.000000</td>\n",
              "      <td>0.000000</td>\n",
              "      <td>89.500000</td>\n",
              "      <td>0.000000</td>\n",
              "      <td>0.000000</td>\n",
              "      <td>0.056200</td>\n",
              "      <td>0.078500</td>\n",
              "      <td>324.000000</td>\n",
              "      <td>7.670000</td>\n",
              "      <td>0.000231</td>\n",
              "      <td>28.500000</td>\n",
              "      <td>0.000000</td>\n",
              "      <td>0.000000</td>\n",
              "      <td>28.500000</td>\n",
              "      <td>0.000000</td>\n",
              "      <td>0.000000</td>\n",
              "      <td>0.0</td>\n",
              "      <td>0.0</td>\n",
              "      <td>0.0</td>\n",
              "      <td>0.0</td>\n",
              "      <td>67.300000</td>\n",
              "      <td>53.300000</td>\n",
              "      <td>0.250000</td>\n",
              "      <td>67.700000</td>\n",
              "      <td>53.300000</td>\n",
              "      <td>0.000000e+00</td>\n",
              "      <td>21.000000</td>\n",
              "      <td>9.280000e-01</td>\n",
              "      <td>321.00000</td>\n",
              "      <td>118.000000</td>\n",
              "      <td>0.178000</td>\n",
              "      <td>12.0</td>\n",
              "      <td>1.0</td>\n",
              "      <td>65.000000</td>\n",
              "      <td>6.000000</td>\n",
              "    </tr>\n",
              "    <tr>\n",
              "      <th>75%</th>\n",
              "      <td>159.000000</td>\n",
              "      <td>4.140000</td>\n",
              "      <td>37.500000</td>\n",
              "      <td>159.000000</td>\n",
              "      <td>4.280000</td>\n",
              "      <td>0.000000</td>\n",
              "      <td>4.405000</td>\n",
              "      <td>0.099350</td>\n",
              "      <td>326.000000</td>\n",
              "      <td>14.000000</td>\n",
              "      <td>0.001180</td>\n",
              "      <td>99.800000</td>\n",
              "      <td>1.410000</td>\n",
              "      <td>25.000000</td>\n",
              "      <td>99.800000</td>\n",
              "      <td>1.665000</td>\n",
              "      <td>0.000000</td>\n",
              "      <td>4.025000</td>\n",
              "      <td>0.107000</td>\n",
              "      <td>325.000000</td>\n",
              "      <td>13.600000</td>\n",
              "      <td>0.001170</td>\n",
              "      <td>29.500000</td>\n",
              "      <td>0.000000</td>\n",
              "      <td>0.000000</td>\n",
              "      <td>29.500000</td>\n",
              "      <td>0.000000</td>\n",
              "      <td>0.000000</td>\n",
              "      <td>0.0</td>\n",
              "      <td>0.0</td>\n",
              "      <td>0.0</td>\n",
              "      <td>0.0</td>\n",
              "      <td>768.500000</td>\n",
              "      <td>53.400000</td>\n",
              "      <td>24.000000</td>\n",
              "      <td>769.500000</td>\n",
              "      <td>53.300000</td>\n",
              "      <td>0.000000e+00</td>\n",
              "      <td>23.350000</td>\n",
              "      <td>9.950000e-01</td>\n",
              "      <td>322.00000</td>\n",
              "      <td>119.000000</td>\n",
              "      <td>0.191500</td>\n",
              "      <td>12.0</td>\n",
              "      <td>1.0</td>\n",
              "      <td>100.000000</td>\n",
              "      <td>6.000000</td>\n",
              "    </tr>\n",
              "    <tr>\n",
              "      <th>max</th>\n",
              "      <td>198.000000</td>\n",
              "      <td>44.900000</td>\n",
              "      <td>1030.000000</td>\n",
              "      <td>198.000000</td>\n",
              "      <td>44.700000</td>\n",
              "      <td>937.000000</td>\n",
              "      <td>19.000000</td>\n",
              "      <td>0.319000</td>\n",
              "      <td>329.000000</td>\n",
              "      <td>64.800000</td>\n",
              "      <td>0.017500</td>\n",
              "      <td>158.000000</td>\n",
              "      <td>6.430000</td>\n",
              "      <td>550.000000</td>\n",
              "      <td>158.000000</td>\n",
              "      <td>6.000000</td>\n",
              "      <td>911.000000</td>\n",
              "      <td>27.900000</td>\n",
              "      <td>0.345000</td>\n",
              "      <td>328.000000</td>\n",
              "      <td>51.200000</td>\n",
              "      <td>0.014400</td>\n",
              "      <td>119.000000</td>\n",
              "      <td>50.200000</td>\n",
              "      <td>1110.000000</td>\n",
              "      <td>119.000000</td>\n",
              "      <td>50.000000</td>\n",
              "      <td>1000.000000</td>\n",
              "      <td>0.0</td>\n",
              "      <td>0.0</td>\n",
              "      <td>0.0</td>\n",
              "      <td>0.0</td>\n",
              "      <td>2140.000000</td>\n",
              "      <td>53.700000</td>\n",
              "      <td>125.000000</td>\n",
              "      <td>2140.000000</td>\n",
              "      <td>53.300000</td>\n",
              "      <td>1.000000e+02</td>\n",
              "      <td>62.000000</td>\n",
              "      <td>2.650000e+00</td>\n",
              "      <td>329.00000</td>\n",
              "      <td>129.000000</td>\n",
              "      <td>0.441000</td>\n",
              "      <td>12.0</td>\n",
              "      <td>1.0</td>\n",
              "      <td>132.000000</td>\n",
              "      <td>50.000000</td>\n",
              "    </tr>\n",
              "  </tbody>\n",
              "</table>\n",
              "</div>"
            ],
            "text/plain": [
              "       X1_ActualPosition  ...  M1_CURRENT_FEEDRATE\n",
              "count        1055.000000  ...          1055.000000\n",
              "mean          151.998104  ...             8.669194\n",
              "std             8.315984  ...            10.508312\n",
              "min           141.000000  ...             6.000000\n",
              "25%           145.000000  ...             6.000000\n",
              "50%           151.000000  ...             6.000000\n",
              "75%           159.000000  ...             6.000000\n",
              "max           198.000000  ...            50.000000\n",
              "\n",
              "[8 rows x 47 columns]"
            ]
          },
          "metadata": {
            "tags": []
          },
          "execution_count": 690
        }
      ]
    },
    {
      "cell_type": "markdown",
      "metadata": {
        "id": "6JosubACna0s",
        "colab_type": "text"
      },
      "source": [
        "# **EDA**"
      ]
    },
    {
      "cell_type": "code",
      "metadata": {
        "id": "c4jQReiqnXPR",
        "colab_type": "code",
        "colab": {}
      },
      "source": [
        "# 1. Feature count\n",
        "\n",
        "# 2. pairplot\n",
        "\n",
        "# 3. heatmap\n"
      ],
      "execution_count": null,
      "outputs": []
    },
    {
      "cell_type": "code",
      "metadata": {
        "id": "DRWWA6uvtoD_",
        "colab_type": "code",
        "colab": {
          "base_uri": "https://localhost:8080/"
        },
        "outputId": "64bf43c2-0dce-4ebe-c685-bdc4586c172d"
      },
      "source": [
        "print(\"##########################\")\n",
        "print(\"##### Feature Counts #####\")\n",
        "print(\"##########################\")\n",
        "for i in range(1, len(experiment_result.columns)):\n",
        "    print(\"####### \" + experiment_result.columns[i] + \" #######\")\n",
        "    print(experiment_result.iloc[:,i].value_counts())"
      ],
      "execution_count": null,
      "outputs": [
        {
          "output_type": "stream",
          "text": [
            "##########################\n",
            "##### Feature Counts #####\n",
            "##########################\n",
            "####### material #######\n",
            "wax    18\n",
            "Name: material, dtype: int64\n",
            "####### feedrate #######\n",
            "3     6\n",
            "20    5\n",
            "6     5\n",
            "15    1\n",
            "12    1\n",
            "Name: feedrate, dtype: int64\n",
            "####### clamp_pressure #######\n",
            "4.0    9\n",
            "3.0    6\n",
            "2.5    3\n",
            "Name: clamp_pressure, dtype: int64\n",
            "####### tool_condition #######\n",
            "worn      10\n",
            "unworn     8\n",
            "Name: tool_condition, dtype: int64\n",
            "####### machining_finalized #######\n",
            "yes    14\n",
            "no      4\n",
            "Name: machining_finalized, dtype: int64\n",
            "####### passed_visual_inspection #######\n",
            "yes    10\n",
            "no      8\n",
            "Name: passed_visual_inspection, dtype: int64\n"
          ],
          "name": "stdout"
        }
      ]
    },
    {
      "cell_type": "code",
      "metadata": {
        "id": "JDigzvOAXjnd",
        "colab_type": "code",
        "colab": {
          "base_uri": "https://localhost:8080/"
        },
        "outputId": "28c3170c-7657-41ad-d4f3-567f7ec2275b"
      },
      "source": [
        "sns.pairplot(data = experiment_result)"
      ],
      "execution_count": null,
      "outputs": [
        {
          "output_type": "execute_result",
          "data": {
            "text/plain": [
              "<seaborn.axisgrid.PairGrid at 0x7f05cbbfee48>"
            ]
          },
          "metadata": {
            "tags": []
          },
          "execution_count": 693
        },
        {
          "output_type": "display_data",
          "data": {
            "image/png": "[encoded data removed]",
            "text/plain": [
              "<Figure size 540x540 with 12 Axes>"
            ]
          },
          "metadata": {
            "tags": [],
            "needs_background": "light"
          }
        }
      ]
    },
    {
      "cell_type": "code",
      "metadata": {
        "id": "TiO5XHUkXtEW",
        "colab_type": "code",
        "colab": {
          "base_uri": "https://localhost:8080/"
        },
        "outputId": "84061671-b6ad-4985-a0fc-dcd6d69e9b02"
      },
      "source": [
        "sns.boxplot(data = experiment_result)"
      ],
      "execution_count": null,
      "outputs": [
        {
          "output_type": "execute_result",
          "data": {
            "text/plain": [
              "<matplotlib.axes._subplots.AxesSubplot at 0x7f05cbad2128>"
            ]
          },
          "metadata": {
            "tags": []
          },
          "execution_count": 694
        },
        {
          "output_type": "display_data",
          "data": {
            "image/png": "[encoded data removed]",
            "text/plain": [
              "<Figure size 360x288 with 1 Axes>"
            ]
          },
          "metadata": {
            "tags": [],
            "needs_background": "light"
          }
        }
      ]
    },
    {
      "cell_type": "code",
      "metadata": {
        "id": "8vjN2A9VbJ7X",
        "colab_type": "code",
        "colab": {
          "base_uri": "https://localhost:8080/"
        },
        "outputId": "4a73b21b-ed6e-4f16-956d-69b5fbe7262c"
      },
      "source": [
        "sns.boxplot(data = experiment_01)"
      ],
      "execution_count": null,
      "outputs": [
        {
          "output_type": "execute_result",
          "data": {
            "text/plain": [
              "<matplotlib.axes._subplots.AxesSubplot at 0x7f05cdab9d30>"
            ]
          },
          "metadata": {
            "tags": []
          },
          "execution_count": 695
        },
        {
          "output_type": "display_data",
          "data": {
            "image/png": "[encoded data removed]",
            "text/plain": [
              "<Figure size 360x288 with 1 Axes>"
            ]
          },
          "metadata": {
            "tags": [],
            "needs_background": "light"
          }
        }
      ]
    },
    {
      "cell_type": "code",
      "metadata": {
        "id": "n1K-My0ntpc1",
        "colab_type": "code",
        "colab": {
          "base_uri": "https://localhost:8080/"
        },
        "outputId": "9d5ad901-93a6-4bd1-9523-2fb51d6f4a2f"
      },
      "source": [
        "sns.pairplot(experiment_result, hue='tool_condition', vars=[\"feedrate\",\"clamp_pressure\"])\n",
        "sns.pairplot(experiment_result, hue='machining_finalized', vars=[\"feedrate\",\"clamp_pressure\"])"
      ],
      "execution_count": null,
      "outputs": [
        {
          "output_type": "execute_result",
          "data": {
            "text/plain": [
              "<seaborn.axisgrid.PairGrid at 0x7f05d17f1470>"
            ]
          },
          "metadata": {
            "tags": []
          },
          "execution_count": 696
        },
        {
          "output_type": "display_data",
          "data": {
            "image/png": "[encoded data removed]",
            "text/plain": [
              "<Figure size 438x360 with 6 Axes>"
            ]
          },
          "metadata": {
            "tags": [],
            "needs_background": "light"
          }
        },
        {
          "output_type": "display_data",
          "data": {
            "image/png": "[encoded data removed]",
            "text/plain": [
              "<Figure size 467.875x360 with 6 Axes>"
            ]
          },
          "metadata": {
            "tags": [],
            "needs_background": "light"
          }
        }
      ]
    },
    {
      "cell_type": "code",
      "metadata": {
        "id": "z0RLt4QJtv0v",
        "colab_type": "code",
        "colab": {
          "base_uri": "https://localhost:8080/"
        },
        "outputId": "579978cf-8f20-43c1-94bb-4f24861ae7bc"
      },
      "source": [
        "print(\"##########################\")\n",
        "print(\"##### Feature Counts #####\")\n",
        "print(\"##########################\")\n",
        "for i in ['Machining_Process','M1_CURRENT_PROGRAM_NUMBER','M1_sequence_number','M1_CURRENT_FEEDRATE']:\n",
        "    print(\"####### \" + i + \" #######\")\n",
        "    print(experiment_01[i].value_counts())"
      ],
      "execution_count": null,
      "outputs": [
        {
          "output_type": "stream",
          "text": [
            "##########################\n",
            "##### Feature Counts #####\n",
            "##########################\n",
            "####### Machining_Process #######\n",
            "Layer 2 Up       203\n",
            "Layer 3 Up       194\n",
            "Layer 1 Up       172\n",
            "Layer 1 Down     148\n",
            "Layer 3 Down     142\n",
            "Layer 2 Down     132\n",
            "Prep              30\n",
            "Repositioning     25\n",
            "end                8\n",
            "Starting           1\n",
            "Name: Machining_Process, dtype: int64\n",
            "####### M1_CURRENT_PROGRAM_NUMBER #######\n",
            "1.0    1055\n",
            "Name: M1_CURRENT_PROGRAM_NUMBER, dtype: int64\n",
            "####### M1_sequence_number #######\n",
            "2.0      102\n",
            "70.0      30\n",
            "111.0     30\n",
            "45.0      29\n",
            "29.0      29\n",
            "        ... \n",
            "12.0       1\n",
            "51.0       1\n",
            "44.0       1\n",
            "4.0        1\n",
            "0.0        1\n",
            "Name: M1_sequence_number, Length: 81, dtype: int64\n",
            "####### M1_CURRENT_FEEDRATE #######\n",
            "6.0     991\n",
            "50.0     64\n",
            "Name: M1_CURRENT_FEEDRATE, dtype: int64\n"
          ],
          "name": "stdout"
        }
      ]
    },
    {
      "cell_type": "code",
      "metadata": {
        "id": "jpPpMb7itxkO",
        "colab_type": "code",
        "colab": {
          "base_uri": "https://localhost:8080/"
        },
        "outputId": "46fab444-6a30-450f-86e8-d2564feb76fa"
      },
      "source": [
        "sns.pairplot(experiment_01, hue='Machining_Process', vars=['X1_OutputCurrent', 'Y1_OutputCurrent', 'Z1_OutputCurrent','S1_OutputCurrent']) # 가공마무리&전류 관계\n",
        "sns.pairplot(experiment_01, hue='Machining_Process', vars=['X1_OutputVoltage', 'Y1_OutputVoltage', 'Z1_OutputVoltage','S1_OutputVoltage']) # 가공마무리&전압 관계\n",
        "sns.pairplot(experiment_01, hue='Machining_Process', vars=['X1_OutputPower','S1_OutputPower']) # 가공마무리&출력동력 관계"
      ],
      "execution_count": null,
      "outputs": [
        {
          "output_type": "stream",
          "text": [
            "/usr/local/lib/python3.6/dist-packages/seaborn/distributions.py:283: UserWarning: Data must have variance to compute a kernel density estimate.\n",
            "  warnings.warn(msg, UserWarning)\n",
            "/usr/local/lib/python3.6/dist-packages/seaborn/distributions.py:283: UserWarning: Data must have variance to compute a kernel density estimate.\n",
            "  warnings.warn(msg, UserWarning)\n",
            "/usr/local/lib/python3.6/dist-packages/seaborn/distributions.py:283: UserWarning: Data must have variance to compute a kernel density estimate.\n",
            "  warnings.warn(msg, UserWarning)\n",
            "/usr/local/lib/python3.6/dist-packages/seaborn/distributions.py:283: UserWarning: Data must have variance to compute a kernel density estimate.\n",
            "  warnings.warn(msg, UserWarning)\n",
            "/usr/local/lib/python3.6/dist-packages/seaborn/distributions.py:283: UserWarning: Data must have variance to compute a kernel density estimate.\n",
            "  warnings.warn(msg, UserWarning)\n",
            "/usr/local/lib/python3.6/dist-packages/seaborn/distributions.py:283: UserWarning: Data must have variance to compute a kernel density estimate.\n",
            "  warnings.warn(msg, UserWarning)\n",
            "/usr/local/lib/python3.6/dist-packages/seaborn/distributions.py:283: UserWarning: Data must have variance to compute a kernel density estimate.\n",
            "  warnings.warn(msg, UserWarning)\n",
            "/usr/local/lib/python3.6/dist-packages/seaborn/distributions.py:283: UserWarning: Data must have variance to compute a kernel density estimate.\n",
            "  warnings.warn(msg, UserWarning)\n",
            "/usr/local/lib/python3.6/dist-packages/seaborn/distributions.py:283: UserWarning: Data must have variance to compute a kernel density estimate.\n",
            "  warnings.warn(msg, UserWarning)\n",
            "/usr/local/lib/python3.6/dist-packages/seaborn/distributions.py:283: UserWarning: Data must have variance to compute a kernel density estimate.\n",
            "  warnings.warn(msg, UserWarning)\n",
            "/usr/local/lib/python3.6/dist-packages/seaborn/distributions.py:283: UserWarning: Data must have variance to compute a kernel density estimate.\n",
            "  warnings.warn(msg, UserWarning)\n",
            "/usr/local/lib/python3.6/dist-packages/seaborn/distributions.py:283: UserWarning: Data must have variance to compute a kernel density estimate.\n",
            "  warnings.warn(msg, UserWarning)\n",
            "/usr/local/lib/python3.6/dist-packages/seaborn/distributions.py:283: UserWarning: Data must have variance to compute a kernel density estimate.\n",
            "  warnings.warn(msg, UserWarning)\n",
            "/usr/local/lib/python3.6/dist-packages/seaborn/distributions.py:283: UserWarning: Data must have variance to compute a kernel density estimate.\n",
            "  warnings.warn(msg, UserWarning)\n",
            "/usr/local/lib/python3.6/dist-packages/seaborn/distributions.py:283: UserWarning: Data must have variance to compute a kernel density estimate.\n",
            "  warnings.warn(msg, UserWarning)\n",
            "/usr/local/lib/python3.6/dist-packages/seaborn/distributions.py:283: UserWarning: Data must have variance to compute a kernel density estimate.\n",
            "  warnings.warn(msg, UserWarning)\n",
            "/usr/local/lib/python3.6/dist-packages/seaborn/distributions.py:283: UserWarning: Data must have variance to compute a kernel density estimate.\n",
            "  warnings.warn(msg, UserWarning)\n",
            "/usr/local/lib/python3.6/dist-packages/seaborn/distributions.py:283: UserWarning: Data must have variance to compute a kernel density estimate.\n",
            "  warnings.warn(msg, UserWarning)\n",
            "/usr/local/lib/python3.6/dist-packages/seaborn/distributions.py:283: UserWarning: Data must have variance to compute a kernel density estimate.\n",
            "  warnings.warn(msg, UserWarning)\n",
            "/usr/local/lib/python3.6/dist-packages/seaborn/distributions.py:283: UserWarning: Data must have variance to compute a kernel density estimate.\n",
            "  warnings.warn(msg, UserWarning)\n",
            "/usr/local/lib/python3.6/dist-packages/seaborn/distributions.py:283: UserWarning: Data must have variance to compute a kernel density estimate.\n",
            "  warnings.warn(msg, UserWarning)\n",
            "/usr/local/lib/python3.6/dist-packages/seaborn/distributions.py:283: UserWarning: Data must have variance to compute a kernel density estimate.\n",
            "  warnings.warn(msg, UserWarning)\n",
            "/usr/local/lib/python3.6/dist-packages/seaborn/distributions.py:283: UserWarning: Data must have variance to compute a kernel density estimate.\n",
            "  warnings.warn(msg, UserWarning)\n",
            "/usr/local/lib/python3.6/dist-packages/seaborn/distributions.py:283: UserWarning: Data must have variance to compute a kernel density estimate.\n",
            "  warnings.warn(msg, UserWarning)\n",
            "/usr/local/lib/python3.6/dist-packages/seaborn/distributions.py:283: UserWarning: Data must have variance to compute a kernel density estimate.\n",
            "  warnings.warn(msg, UserWarning)\n",
            "/usr/local/lib/python3.6/dist-packages/seaborn/distributions.py:283: UserWarning: Data must have variance to compute a kernel density estimate.\n",
            "  warnings.warn(msg, UserWarning)\n",
            "/usr/local/lib/python3.6/dist-packages/seaborn/distributions.py:283: UserWarning: Data must have variance to compute a kernel density estimate.\n",
            "  warnings.warn(msg, UserWarning)\n",
            "/usr/local/lib/python3.6/dist-packages/seaborn/distributions.py:283: UserWarning: Data must have variance to compute a kernel density estimate.\n",
            "  warnings.warn(msg, UserWarning)\n"
          ],
          "name": "stderr"
        },
        {
          "output_type": "execute_result",
          "data": {
            "text/plain": [
              "<seaborn.axisgrid.PairGrid at 0x7f05cedf1c18>"
            ]
          },
          "metadata": {
            "tags": []
          },
          "execution_count": 698
        },
        {
          "output_type": "display_data",
          "data": {
            "image/png": "[encoded data removed]",
            "text/plain": [
              "<Figure size 824.625x720 with 20 Axes>"
            ]
          },
          "metadata": {
            "tags": [],
            "needs_background": "light"
          }
        }
      ]
    },
    {
      "cell_type": "markdown",
      "metadata": {
        "id": "RoGnBMxvg48k",
        "colab_type": "text"
      },
      "source": [
        "소결론 : 가공마무리 & 전류 상관관계가 가장 높음"
      ]
    },
    {
      "cell_type": "markdown",
      "metadata": {
        "id": "8IcxeCjMW-Lr",
        "colab_type": "text"
      },
      "source": [
        "# **Data frame**"
      ]
    },
    {
      "cell_type": "code",
      "metadata": {
        "id": "nenmSKo4kiV3",
        "colab_type": "code",
        "colab": {}
      },
      "source": [
        "experiment_result.astype({'feedrate':'int'}).dtypes\n"
      ],
      "execution_count": null,
      "outputs": []
    },
    {
      "cell_type": "code",
      "metadata": {
        "id": "17HNf-_3UTba",
        "colab_type": "code",
        "colab": {}
      },
      "source": [
        "#########creating data frame#################\n",
        "\n",
        "frames = list()\n",
        "experiment_result.astype({'feedrate':'int'}).dtypes\n",
        "#load files\n",
        "for i in range(1,19):\n",
        "    exp_number = '0' + str(i) if i < 10 else str(i)\n",
        "    frame = pd.read_csv(\"experiment_{}.csv\".format(exp_number))\n",
        "\n",
        "#load each experiment result\n",
        "    row = experiment_result[experiment_result['No'] == i] #행번호 붙이기\n",
        "\n",
        "#add experiment settings to features (feedrate, clamp pressure 데이터 붙이기)\n",
        "    frame['feedrate']=row.iloc[0]['feedrate'] \n",
        "    frame.astype({'feedrate':'int'}).dtypes\n",
        "    frame['clamp_pressure']=row.iloc[0]['clamp_pressure']\n",
        "    \n",
        "# Having label as 'tool_conidtion'\n",
        "    \n",
        "    frame['label'] = 1 if row.iloc[0]['tool_condition'] == 'worn' else 0 #마모 : 1, 미마모 : 0 라벨링 -> like 원핫인코딩\n",
        "    frames.append(frame)\n",
        "\n",
        "#encode 'Machining_Process'label to number #공작과정 라벨링\n",
        " \n",
        "#split df into train/test data\n",
        "\n",
        "#fit  & predict\n",
        "\n",
        "df = pd.concat(frames, ignore_index = True)\n",
        "df.head()\n",
        "df.astype({'feedrate':'int'}).dtypes\n",
        "df['feedrate'].astype('float')\n",
        "pd.to_numeric(df['feedrate'])"
      ],
      "execution_count": null,
      "outputs": []
    },
    {
      "cell_type": "code",
      "metadata": {
        "id": "zNqn51nwjz4N",
        "colab_type": "code",
        "colab": {}
      },
      "source": [
        ""
      ],
      "execution_count": null,
      "outputs": []
    },
    {
      "cell_type": "code",
      "metadata": {
        "id": "rBNr0aWdY4a6",
        "colab_type": "code",
        "colab": {}
      },
      "source": [
        "df.shape"
      ],
      "execution_count": null,
      "outputs": []
    },
    {
      "cell_type": "code",
      "metadata": {
        "id": "QcmdcnzZY6nC",
        "colab_type": "code",
        "colab": {}
      },
      "source": [
        "df.info()"
      ],
      "execution_count": null,
      "outputs": []
    },
    {
      "cell_type": "markdown",
      "metadata": {
        "id": "BqG2G2bdW5w2",
        "colab_type": "text"
      },
      "source": [
        "# **Heat map**"
      ]
    },
    {
      "cell_type": "code",
      "metadata": {
        "id": "tEYyKvTAUBuC",
        "colab_type": "code",
        "colab": {}
      },
      "source": [
        "# Convert 'Machining_process' into numerical values\n",
        "pro={'Layer 1 Up':1,'Repositioning':2,'Layer 2 Up':3,'Layer 2 Up':4,'Layer 1 Down':5,'End':6,'Layer 2 Down':7,'Layer 3 Down':8,'Prep':9,'end':10,'Starting':11}\n",
        "\n",
        "data=[df]\n",
        "\n",
        "for dataset in data:\n",
        "    dataset['Machining_Process']=dataset['Machining_Process'].map(pro)\n",
        "\n",
        "df=df.drop(['Z1_CurrentFeedback','Z1_DCBusVoltage','Z1_OutputCurrent','Z1_OutputVoltage','S1_SystemInertia'],axis=1)\n",
        "\n",
        "corm=df.corr()\n",
        "corm"
      ],
      "execution_count": null,
      "outputs": []
    },
    {
      "cell_type": "code",
      "metadata": {
        "id": "2GBiOy1ytzzU",
        "colab_type": "code",
        "colab": {}
      },
      "source": [
        "#checking the relationship between the variables by applying the correlation \n",
        "plt.figure(figsize=(30, 25))\n",
        "p = sns.heatmap(df.corr(), annot=True)"
      ],
      "execution_count": null,
      "outputs": []
    },
    {
      "cell_type": "code",
      "metadata": {
        "id": "wm8nUXCwlgph",
        "colab_type": "code",
        "colab": {}
      },
      "source": [
        "import time\n",
        "start = time.time()  # 시작 시간 저장\n",
        " \n",
        " \n",
        "# 작업 코드\n",
        " \n",
        " \n",
        "print(\"time :\", time.time() - start)  # 현재시각 - 시작시간 = 실행 시간"
      ],
      "execution_count": null,
      "outputs": []
    },
    {
      "cell_type": "markdown",
      "metadata": {
        "id": "s9wOqbiQdh0Z",
        "colab_type": "text"
      },
      "source": [
        "# **모델링**"
      ]
    },
    {
      "cell_type": "code",
      "metadata": {
        "id": "jJ6hbwc-ZEP9",
        "colab_type": "code",
        "colab": {}
      },
      "source": [
        "## building ML model ##\n",
        "\n",
        "X=df.drop(columns=['label','Machining_Process'],axis=1) #공작과정 삭제\n",
        "Y=np.array(df['label'])\n",
        "print('The dimension of X table is: ',X.shape,'\\n')\n",
        "print('The dimension of Y table is: ', Y.shape)"
      ],
      "execution_count": null,
      "outputs": []
    },
    {
      "cell_type": "code",
      "metadata": {
        "id": "vOd8Ge314PSF",
        "colab_type": "code",
        "colab": {}
      },
      "source": [
        "df.astype({'feedrate':'int'}).dtypes\n",
        "df['feedrate'].astype('float')\n",
        "pd.to_numeric(df['feedrate'])\n",
        "df['feedrate'] = df['feedrate'].astype(int) # object형을 int로 변환"
      ],
      "execution_count": null,
      "outputs": []
    },
    {
      "cell_type": "code",
      "metadata": {
        "id": "g0MNyh6y4-gn",
        "colab_type": "code",
        "colab": {}
      },
      "source": [
        ""
      ],
      "execution_count": null,
      "outputs": []
    },
    {
      "cell_type": "code",
      "metadata": {
        "id": "JTwJGu_8zPNr",
        "colab_type": "code",
        "colab": {}
      },
      "source": [
        "df.info()"
      ],
      "execution_count": null,
      "outputs": []
    },
    {
      "cell_type": "code",
      "metadata": {
        "id": "xWvXwqUucO6w",
        "colab_type": "code",
        "colab": {}
      },
      "source": [
        "## train/test split ##\n",
        "from sklearn.model_selection import train_test_split\n",
        "\n",
        "#divided into testing and training\n",
        "x_train, x_test, y_train, y_test = train_test_split(X, Y, test_size=0.25, random_state=42)"
      ],
      "execution_count": null,
      "outputs": []
    },
    {
      "cell_type": "code",
      "metadata": {
        "id": "XFvcerv3dCzr",
        "colab_type": "code",
        "colab": {}
      },
      "source": [
        ""
      ],
      "execution_count": null,
      "outputs": []
    },
    {
      "cell_type": "markdown",
      "metadata": {
        "id": "M_DEb9ZHdnf7",
        "colab_type": "text"
      },
      "source": [
        "# **Random forest**"
      ]
    },
    {
      "cell_type": "code",
      "metadata": {
        "id": "lRpjETBtdTSI",
        "colab_type": "code",
        "colab": {}
      },
      "source": [
        "## random forest ##\n",
        "%%time\n",
        "rmf_model=RandomForestClassifier()\n",
        "rmf_model.fit(x_train,y_train)"
      ],
      "execution_count": null,
      "outputs": []
    },
    {
      "cell_type": "code",
      "metadata": {
        "id": "35PyYP3EjMqc",
        "colab_type": "code",
        "colab": {}
      },
      "source": [
        "y_score = rmf_model.predict(x_test)\n",
        "print(\"Trained on {0} observations and scoring with {1} test samples.\".format(len(x_train), len(x_test)))\n",
        "print(\"Accuracy: {0:0.4f}\".format(accuracy_score(y_test, y_score)))\n",
        "print(\"F1 Score: {0:0.4f}\".format(f1_score(y_test, y_score)))\n",
        "print(\"Area under ROC curve: {0:0.4f}\".format(roc_auc_score(y_test, y_score)))"
      ],
      "execution_count": null,
      "outputs": []
    },
    {
      "cell_type": "code",
      "metadata": {
        "id": "JRWfUXU-t5wW",
        "colab_type": "code",
        "colab": {}
      },
      "source": [
        "false_positive_rate, true_positive_rate, thresholds = roc_curve(y_test, y_score)\n",
        "roc_auc = roc_auc_score(y_test, y_score)\n",
        "print(\"AUC : %0.3f\" % roc_auc)\n",
        "\n",
        "\n",
        "plt.rcParams['figure.figsize'] = [5, 4]\n",
        "plt.plot(false_positive_rate, true_positive_rate, label='ROC curve (area = %0.3f)' % roc_auc, color='red', linewidth=4.0)\n",
        "plt.plot([0,1], [0,1], 'k--')\n",
        "plt.xlim([0.0, 1.0])\n",
        "plt.ylim([0.0, 1.0])\n",
        "plt.xlabel('False Positive Rate')\n",
        "plt.ylabel('True Positive Rate')\n",
        "plt.title('ROC curve')\n",
        "plt.legend(loc=\"lower right\")"
      ],
      "execution_count": null,
      "outputs": []
    },
    {
      "cell_type": "code",
      "metadata": {
        "id": "aZ9z73ykCh36",
        "colab_type": "code",
        "colab": {}
      },
      "source": [
        "# Feature importances\n",
        "features = [(df.columns[i], v) for i,v in enumerate(rmf_model.feature_importances_)]\n",
        "features.sort(key=lambda x: x[1], reverse = True)\n",
        "for item in features[:10]:\n",
        "    print(\"{0}: {1:0.4f}\".format(item[0], item[1]))"
      ],
      "execution_count": null,
      "outputs": []
    },
    {
      "cell_type": "code",
      "metadata": {
        "id": "9P7_ADrduDHh",
        "colab_type": "code",
        "colab": {}
      },
      "source": [
        "\"\"\"\n",
        "#learning curve\n",
        "train_sizes = [18964]\n",
        "from sklearn.model_selection import learning_curve\n",
        "import matplotlib.pyplot as plt\n",
        "\n",
        "plt.style.use('seaborn')\n",
        "plt.plot(train_sizes, train_scores_mean, label = 'Training error')\n",
        "plt.plot(train_sizes, validation_scores_mean, label = 'Validation error')\n",
        "plt.ylabel('MSE', fontsize = 14)\n",
        "plt.xlabel('Training set size', fontsize = 14)\n",
        "plt.title('Learning curves for a linear regression model', fontsize = 18, y = 1.03)\n",
        "plt.legend()\n",
        "plt.ylim(0,40)\n",
        "\"\"\""
      ],
      "execution_count": null,
      "outputs": []
    },
    {
      "cell_type": "code",
      "metadata": {
        "id": "hxogflGpaOJZ",
        "colab_type": "code",
        "colab": {}
      },
      "source": [
        ""
      ],
      "execution_count": null,
      "outputs": []
    },
    {
      "cell_type": "code",
      "metadata": {
        "id": "corIuH7Cljd6",
        "colab_type": "code",
        "colab": {}
      },
      "source": [
        "import time\n",
        "start = time.time()  # 시작 시간 저장\n",
        " \n",
        " \n",
        "# 작업 코드\n",
        " \n",
        " \n",
        "print(\"time :\", time.time() - start)  # 현재시각 - 시작시간 = 실행 시간"
      ],
      "execution_count": null,
      "outputs": []
    },
    {
      "cell_type": "markdown",
      "metadata": {
        "id": "X-JccJkBdqpY",
        "colab_type": "text"
      },
      "source": [
        "# **Logistic regression**"
      ]
    },
    {
      "cell_type": "code",
      "metadata": {
        "id": "m4oio7MZdVFw",
        "colab_type": "code",
        "colab": {}
      },
      "source": [
        "## logistic regression ##\n",
        "\n",
        "%%time\n",
        "import sklearn.linear_model as lm\n",
        "logreg = lm.LogisticRegression()\n",
        "\n",
        "logreg=LogisticRegression()\n",
        "logreg.fit(x_train,y_train)"
      ],
      "execution_count": null,
      "outputs": []
    },
    {
      "cell_type": "code",
      "metadata": {
        "id": "kzb48X1ejNkS",
        "colab_type": "code",
        "colab": {}
      },
      "source": [
        "y_score = logreg.predict(x_test)\n",
        "print(\"Trained on {0} observations and scoring with {1} test samples.\".format(len(x_train), len(x_test)))\n",
        "print(\"Accuracy: {0:0.4f}\".format(accuracy_score(y_test, y_score)))\n",
        "print(\"F1 Score: {0:0.4f}\".format(f1_score(y_test, y_score)))\n",
        "print(\"Area under ROC curve: {0:0.4f}\".format(roc_auc_score(y_test, y_score)))"
      ],
      "execution_count": null,
      "outputs": []
    },
    {
      "cell_type": "code",
      "metadata": {
        "id": "yhIPaWcot6h4",
        "colab_type": "code",
        "colab": {}
      },
      "source": [
        "false_positive_rate, true_positive_rate, thresholds = roc_curve(y_test, y_score)\n",
        "roc_auc = roc_auc_score(y_test, y_score)\n",
        "print(\"AUC : %0.3f\" % roc_auc)\n",
        "\n",
        "\n",
        "plt.rcParams['figure.figsize'] = [5, 4]\n",
        "plt.plot(false_positive_rate, true_positive_rate, label='ROC curve (area = %0.3f)' % roc_auc, color='red', linewidth=4.0)\n",
        "plt.plot([0,1], [0,1], 'k--')\n",
        "plt.xlim([0.0, 1.0])\n",
        "plt.ylim([0.0, 1.0])\n",
        "plt.xlabel('False Positive Rate')\n",
        "plt.ylabel('True Positive Rate')\n",
        "plt.title('ROC curve')\n",
        "plt.legend(loc=\"lower right\")"
      ],
      "execution_count": null,
      "outputs": []
    },
    {
      "cell_type": "code",
      "metadata": {
        "id": "C8vBUZtdlkNd",
        "colab_type": "code",
        "colab": {}
      },
      "source": [
        "import time\n",
        "start = time.time()  # 시작 시간 저장\n",
        " \n",
        " \n",
        "# 작업 코드\n",
        " \n",
        " \n",
        "print(\"time :\", time.time() - start)  # 현재시각 - 시작시간 = 실행 시간"
      ],
      "execution_count": null,
      "outputs": []
    },
    {
      "cell_type": "code",
      "metadata": {
        "id": "Zd-psS9iaPyF",
        "colab_type": "code",
        "colab": {}
      },
      "source": [
        "\"\"\"\n",
        "# Feature importances\n",
        "features = [(df.columns[i], v) for i,v in enumerate(logreg.feature_importances_)]\n",
        "features.sort(key=lambda x: x[1], reverse = True)\n",
        "for item in features[:10]:\n",
        "    print(\"{0}: {1:0.4f}\".format(item[0], item[1]))\n",
        "\"\"\""
      ],
      "execution_count": null,
      "outputs": []
    },
    {
      "cell_type": "markdown",
      "metadata": {
        "id": "PVsYD3aydtgu",
        "colab_type": "text"
      },
      "source": [
        "# **KNN**"
      ]
    },
    {
      "cell_type": "code",
      "metadata": {
        "id": "8P9ZPvh0dxBw",
        "colab_type": "code",
        "colab": {}
      },
      "source": [
        "## KNN(K nearest neighbor)\n",
        "%%time\n",
        "knb_model=KNeighborsClassifier()\n",
        "knb_model.fit(x_train,y_train)"
      ],
      "execution_count": null,
      "outputs": []
    },
    {
      "cell_type": "code",
      "metadata": {
        "id": "GrPqJdy8jONX",
        "colab_type": "code",
        "colab": {}
      },
      "source": [
        "y_score = knb_model.predict(x_test)\n",
        "print(\"Trained on {0} observations and scoring with {1} test samples.\".format(len(x_train), len(x_test)))\n",
        "print(\"Accuracy: {0:0.4f}\".format(accuracy_score(y_test, y_score)))\n",
        "print(\"F1 Score: {0:0.4f}\".format(f1_score(y_test, y_score)))\n",
        "print(\"Area under ROC curve: {0:0.4f}\".format(roc_auc_score(y_test, y_score)))"
      ],
      "execution_count": null,
      "outputs": []
    },
    {
      "cell_type": "code",
      "metadata": {
        "id": "YzI8GwdFt7P0",
        "colab_type": "code",
        "colab": {}
      },
      "source": [
        "false_positive_rate, true_positive_rate, thresholds = roc_curve(y_test, y_score)\n",
        "roc_auc = roc_auc_score(y_test, y_score)\n",
        "print(\"AUC : %0.3f\" % roc_auc)\n",
        "\n",
        "\n",
        "plt.rcParams['figure.figsize'] = [5, 4]\n",
        "plt.plot(false_positive_rate, true_positive_rate, label='ROC curve (area = %0.3f)' % roc_auc, color='red', linewidth=4.0)\n",
        "plt.plot([0,1], [0,1], 'k--')\n",
        "plt.xlim([0.0, 1.0])\n",
        "plt.ylim([0.0, 1.0])\n",
        "plt.xlabel('False Positive Rate')\n",
        "plt.ylabel('True Positive Rate')\n",
        "plt.title('ROC curve')\n",
        "plt.legend(loc=\"lower right\")"
      ],
      "execution_count": null,
      "outputs": []
    },
    {
      "cell_type": "code",
      "metadata": {
        "id": "AG1Pcek5llMw",
        "colab_type": "code",
        "colab": {}
      },
      "source": [
        "import time\n",
        "start = time.time()  # 시작 시간 저장\n",
        " \n",
        " \n",
        "# 작업 코드\n",
        " \n",
        " \n",
        "print(\"time :\", time.time() - start)  # 현재시각 - 시작시간 = 실행 시간"
      ],
      "execution_count": null,
      "outputs": []
    },
    {
      "cell_type": "code",
      "metadata": {
        "id": "KG1aqwTHaRXo",
        "colab_type": "code",
        "colab": {}
      },
      "source": [
        "\"\"\"\n",
        "# Feature importances\n",
        "\n",
        "#importances = CV_RFR_regr.best_estimator_.feature_importances_\n",
        "\n",
        "features = [(df.columns[i], v) for i,v in enumerate(knb_model.feature_importances_)]\n",
        "features.sort(key=lambda x: x[1], reverse = True)\n",
        "for item in enumerate(features[:10]):\n",
        "    print(\"{0}: {1:0.4f}\".format(item[0], item[1]))\n",
        "\"\"\""
      ],
      "execution_count": null,
      "outputs": []
    },
    {
      "cell_type": "code",
      "metadata": {
        "id": "ZfzL0ykUNh53",
        "colab_type": "code",
        "colab": {}
      },
      "source": [
        "train_scores = []\n",
        "test_scores = []\n",
        "\n",
        "for i in range(1,31):\n",
        "    model = KNeighborsClassifier(n_neighbors=i)\n",
        "    model.fit(x_train, y_train)\n",
        "\n",
        "    score1 = model.score(x_train, y_train)\n",
        "    score2 = model.score(x_test, y_test)\n",
        "    \n",
        "    train_scores.append(score1)\n",
        "    test_scores.append(score2)\n",
        "    \n",
        "plt.plot(range(1,31),train_scores,'bo-',label='train scores')\n",
        "plt.plot(range(1,31),test_scores,'r*-',label='test scores')\n",
        "plt.ylim(0.8,1.)\n",
        "plt.legend(loc='lower center')"
      ],
      "execution_count": null,
      "outputs": []
    },
    {
      "cell_type": "markdown",
      "metadata": {
        "id": "GFFjsn8MQ70i",
        "colab_type": "text"
      },
      "source": [
        "# **Decision tree**"
      ]
    },
    {
      "cell_type": "code",
      "metadata": {
        "id": "PBOJZhHlQ6sX",
        "colab_type": "code",
        "colab": {}
      },
      "source": [
        "%%time\n",
        "DTC_model= DecisionTreeClassifier()\n",
        "DTC_model.fit(x_train,y_train)"
      ],
      "execution_count": null,
      "outputs": []
    },
    {
      "cell_type": "code",
      "metadata": {
        "id": "oITa3QStRRI7",
        "colab_type": "code",
        "colab": {}
      },
      "source": [
        "y_score = DTC_model.predict(x_test)\n",
        "print(\"Trained on {0} observations and scoring with {1} test samples.\".format(len(x_train), len(x_test)))\n",
        "print(\"Accuracy: {0:0.4f}\".format(accuracy_score(y_test, y_score)))\n",
        "print(\"F1 Score: {0:0.4f}\".format(f1_score(y_test, y_score)))\n",
        "print(\"Area under ROC curve: {0:0.4f}\".format(roc_auc_score(y_test, y_score)))"
      ],
      "execution_count": null,
      "outputs": []
    },
    {
      "cell_type": "code",
      "metadata": {
        "id": "9oWf3p7bRTHZ",
        "colab_type": "code",
        "colab": {}
      },
      "source": [
        "false_positive_rate, true_positive_rate, thresholds = roc_curve(y_test, y_score)\n",
        "roc_auc = roc_auc_score(y_test, y_score)\n",
        "print(\"AUC : %0.3f\" % roc_auc)\n",
        "\n",
        "\n",
        "plt.rcParams['figure.figsize'] = [5, 4]\n",
        "plt.plot(false_positive_rate, true_positive_rate, label='ROC curve (area = %0.3f)' % roc_auc, color='red', linewidth=4.0)\n",
        "plt.plot([0,1], [0,1], 'k--')\n",
        "plt.xlim([0.0, 1.0])\n",
        "plt.ylim([0.0, 1.0])\n",
        "plt.xlabel('False Positive Rate')\n",
        "plt.ylabel('True Positive Rate')\n",
        "plt.title('ROC curve')\n",
        "plt.legend(loc=\"lower right\")"
      ],
      "execution_count": null,
      "outputs": []
    },
    {
      "cell_type": "code",
      "metadata": {
        "id": "7PkUSWXIlmmK",
        "colab_type": "code",
        "colab": {}
      },
      "source": [
        "import time\n",
        "start = time.time()  # 시작 시간 저장\n",
        " \n",
        " \n",
        "# 작업 코드\n",
        " \n",
        " \n",
        "print(\"time :\", time.time() - start)  # 현재시각 - 시작시간 = 실행 시간"
      ],
      "execution_count": null,
      "outputs": []
    },
    {
      "cell_type": "code",
      "metadata": {
        "id": "nTS7et4iaTuF",
        "colab_type": "code",
        "colab": {}
      },
      "source": [
        "# Feature importances\n",
        "features = [(df.columns[i], v) for i,v in enumerate(DTC_model.feature_importances_)]\n",
        "features.sort(key=lambda x: x[1], reverse = True)\n",
        "for item in features[:10]:\n",
        "    print(\"{0}: {1:0.4f}\".format(item[0], item[1]))"
      ],
      "execution_count": null,
      "outputs": []
    },
    {
      "cell_type": "code",
      "metadata": {
        "id": "FZWR_gUqKx4J",
        "colab_type": "code",
        "colab": {}
      },
      "source": [
        "from sklearn.tree import convert_to_graphviz\n",
        "import graphviz\n",
        "\n",
        "graphviz.Source(export_graphviz(tree))"
      ],
      "execution_count": null,
      "outputs": []
    },
    {
      "cell_type": "markdown",
      "metadata": {
        "id": "-THpJVXbj_6U",
        "colab_type": "text"
      },
      "source": [
        "# **Decision tree2**"
      ]
    },
    {
      "cell_type": "code",
      "metadata": {
        "id": "YTqSMwM8j8WP",
        "colab_type": "code",
        "colab": {}
      },
      "source": [
        "import numpy as np\n",
        "import pandas as pd\n",
        "from sklearn.tree import DecisionTreeClassifier, export_graphviz\n",
        "from sklearn.model_selection import train_test_split\n",
        "from sklearn.preprocessing import LabelEncoder\n",
        "from sklearn.metrics import accuracy_score, f1_score, roc_auc_score\n",
        "import warnings\n",
        "warnings.filterwarnings(\"ignore\", category=FutureWarning)\n",
        "frames = list()\n",
        "results = pd.read_csv(\"train.csv\")\n",
        "for i in range(1,19):\n",
        "    exp = '0' + str(i) if i < 10 else str(i)\n",
        "    frame = pd.read_csv(\"experiment_{}.csv\".format(exp))\n",
        "    row = results[results['No'] == i]\n",
        "    frame['target'] = 1 if row.iloc[0]['tool_condition'] == 'worn' else 0\n",
        "    frames.append(frame)\n",
        "df = pd.concat(frames, ignore_index = True)\n",
        "df.head()\n",
        "# Transform process name in number\n",
        "le = LabelEncoder()\n",
        "le.fit(df['Machining_Process'])\n",
        "df['Machining_Process'] = le.transform(df['Machining_Process'])\n",
        "# Create np arrays and split train/test sets\n",
        "y = np.array(df['target'])\n",
        "x = df.drop('target', axis=1).values\n",
        "x_train, x_test, y_train, y_test = train_test_split(x, y, train_size=0.8, random_state=123)\n",
        "# Target distribution (count values)\n",
        "print(\"Target distribution - 1 worn; 0 unworn:\")\n",
        "print(df['target'].value_counts())\n",
        "\n"
      ],
      "execution_count": null,
      "outputs": []
    },
    {
      "cell_type": "code",
      "metadata": {
        "id": "3_Csak3A9l45",
        "colab_type": "code",
        "colab": {}
      },
      "source": [
        "%%time\n",
        "model = DecisionTreeClassifier()\n",
        "model.fit(x_train, y_train)\n",
        "y_score = model.predict(x_test)"
      ],
      "execution_count": null,
      "outputs": []
    },
    {
      "cell_type": "code",
      "metadata": {
        "id": "XMvkKV8m9iTM",
        "colab_type": "code",
        "colab": {}
      },
      "source": [
        "\n",
        "print(\"Trained on {0} observations and scoring with {1} test samples.\".format(len(x_train), len(x_test)))\n",
        "print(\"Accuracy: {0:0.4f}\".format(accuracy_score(y_test, y_score)))\n",
        "print(\"F1 Score: {0:0.4f}\".format(f1_score(y_test, y_score)))\n",
        "print(\"Area under ROC curve: {0:0.4f}\".format(roc_auc_score(y_test, y_score)))\n"
      ],
      "execution_count": null,
      "outputs": []
    },
    {
      "cell_type": "code",
      "metadata": {
        "id": "Zlcpz8bbk-5_",
        "colab_type": "code",
        "colab": {}
      },
      "source": [
        "false_positive_rate, true_positive_rate, thresholds = roc_curve(y_test, y_score)\n",
        "roc_auc = roc_auc_score(y_test, y_score)\n",
        "print(\"AUC : %0.3f\" % roc_auc)\n",
        "\n",
        "\n",
        "plt.rcParams['figure.figsize'] = [5, 4]\n",
        "plt.plot(false_positive_rate, true_positive_rate, label='ROC curve (area = %0.3f)' % roc_auc, color='red', linewidth=4.0)\n",
        "plt.plot([0,1], [0,1], 'k--')\n",
        "plt.xlim([0.0, 1.0])\n",
        "plt.ylim([0.0, 1.0])\n",
        "plt.xlabel('False Positive Rate')\n",
        "plt.ylabel('True Positive Rate')\n",
        "plt.title('ROC curve')\n",
        "plt.legend(loc=\"lower right\")"
      ],
      "execution_count": null,
      "outputs": []
    },
    {
      "cell_type": "code",
      "metadata": {
        "id": "VF5IwmVdlnZb",
        "colab_type": "code",
        "colab": {}
      },
      "source": [
        "import time\n",
        "start = time.time()  # 시작 시간 저장\n",
        " \n",
        " \n",
        "# 작업 코드\n",
        " \n",
        " \n",
        "print(\"time :\", time.time() - start)  # 현재시각 - 시작시간 = 실행 시간"
      ],
      "execution_count": null,
      "outputs": []
    },
    {
      "cell_type": "code",
      "metadata": {
        "id": "o4IRYMSPaU5t",
        "colab_type": "code",
        "colab": {}
      },
      "source": [
        "# Feature importances\n",
        "features = [(df.columns[i], v) for i,v in enumerate(model.feature_importances_)]\n",
        "features.sort(key=lambda x: x[1], reverse = True)\n",
        "for item in features[:10]:\n",
        "    print(\"{0}: {1:0.4f}\".format(item[0], item[1]))"
      ],
      "execution_count": null,
      "outputs": []
    },
    {
      "cell_type": "code",
      "metadata": {
        "id": "1pj-76pZKt2A",
        "colab_type": "code",
        "colab": {}
      },
      "source": [
        "from sklearn.tree import convert_to_graphviz\n",
        "import graphviz\n",
        "\n",
        "graphviz.Source(export_graphviz(tree))"
      ],
      "execution_count": null,
      "outputs": []
    },
    {
      "cell_type": "markdown",
      "metadata": {
        "id": "MBoD2Sfe8_6P",
        "colab_type": "text"
      },
      "source": [
        "# **SGD**"
      ]
    },
    {
      "cell_type": "code",
      "metadata": {
        "id": "vqaPBANfdHpd",
        "colab_type": "code",
        "colab": {}
      },
      "source": [
        "## SGD ##\n",
        "%%time\n",
        "sgd_model=SGDClassifier()\n",
        "sgd_model.fit(x_train,y_train)"
      ],
      "execution_count": null,
      "outputs": []
    },
    {
      "cell_type": "code",
      "metadata": {
        "id": "lYhWknwhjLEr",
        "colab_type": "code",
        "colab": {}
      },
      "source": [
        "y_score = sgd_model.predict(x_test)\n",
        "print(\"Trained on {0} observations and scoring with {1} test samples.\".format(len(x_train), len(x_test)))\n",
        "print(\"Accuracy: {0:0.4f}\".format(accuracy_score(y_test, y_score)))\n",
        "print(\"F1 Score: {0:0.4f}\".format(f1_score(y_test, y_score)))\n",
        "print(\"Area under ROC curve: {0:0.4f}\".format(roc_auc_score(y_test, y_score)))"
      ],
      "execution_count": null,
      "outputs": []
    },
    {
      "cell_type": "code",
      "metadata": {
        "id": "avPlaERcpwG7",
        "colab_type": "code",
        "colab": {}
      },
      "source": [
        "false_positive_rate, true_positive_rate, thresholds = roc_curve(y_test, y_score)\n",
        "roc_auc = roc_auc_score(y_test, y_score)\n",
        "print(\"AUC : %0.3f\" % roc_auc)\n",
        "\n",
        "\n",
        "plt.rcParams['figure.figsize'] = [5, 4]\n",
        "plt.plot(false_positive_rate, true_positive_rate, label='ROC curve (area = %0.3f)' % roc_auc, color='red', linewidth=4.0)\n",
        "plt.plot([0,1], [0,1], 'k--')\n",
        "plt.xlim([0.0, 1.0])\n",
        "plt.ylim([0.0, 1.0])\n",
        "plt.xlabel('False Positive Rate')\n",
        "plt.ylabel('True Positive Rate')\n",
        "plt.title('ROC curve')\n",
        "plt.legend(loc=\"lower right\")"
      ],
      "execution_count": null,
      "outputs": []
    },
    {
      "cell_type": "code",
      "metadata": {
        "id": "ymNhAtgJDWs3",
        "colab_type": "code",
        "colab": {}
      },
      "source": [
        "\"\"\"\n",
        "# Feature importances\n",
        "features = [(df.columns[i], v) for i,v in enumerate(sgd_model.feature_importances_)]\n",
        "features.sort(key=lambda x: x[1], reverse = True)\n",
        "for item in features[:10]:\n",
        "    print(\"{0}: {1:0.4f}\".format(item[0], item[1]))\n",
        "\"\"\""
      ],
      "execution_count": null,
      "outputs": []
    },
    {
      "cell_type": "code",
      "metadata": {
        "id": "QLPrpC88lifC",
        "colab_type": "code",
        "colab": {}
      },
      "source": [
        "import time\n",
        "start = time.time()  # 시작 시간 저장\n",
        " \n",
        " \n",
        "# 작업 코드\n",
        " \n",
        " \n",
        "print(\"time :\", time.time() - start)  # 현재시각 - 시작시간 = 실행 시간"
      ],
      "execution_count": null,
      "outputs": []
    },
    {
      "cell_type": "markdown",
      "metadata": {
        "id": "cM3mo6Ng9IvH",
        "colab_type": "text"
      },
      "source": [
        "# Linear **SVM**"
      ]
    },
    {
      "cell_type": "code",
      "metadata": {
        "id": "7RpqyNOOd2rs",
        "colab_type": "code",
        "colab": {}
      },
      "source": [
        "## Linear SVM ##\n",
        "%%time\n",
        "svm_model=LinearSVC()\n",
        "svm_model.fit(x_train,y_train)"
      ],
      "execution_count": null,
      "outputs": []
    },
    {
      "cell_type": "code",
      "metadata": {
        "id": "pP10caa3hoxK",
        "colab_type": "code",
        "colab": {}
      },
      "source": [
        "y_score = svm_model.predict(x_test)\n",
        "print(\"Trained on {0} observations and scoring with {1} test samples.\".format(len(x_train), len(x_test)))\n",
        "print(\"Accuracy: {0:0.4f}\".format(accuracy_score(y_test, y_score)))\n",
        "print(\"F1 Score: {0:0.4f}\".format(f1_score(y_test, y_score)))\n",
        "print(\"Area under ROC curve: {0:0.4f}\".format(roc_auc_score(y_test, y_score)))"
      ],
      "execution_count": null,
      "outputs": []
    },
    {
      "cell_type": "code",
      "metadata": {
        "id": "N7i6zS1ut75f",
        "colab_type": "code",
        "colab": {}
      },
      "source": [
        "false_positive_rate, true_positive_rate, thresholds = roc_curve(y_test, y_score)\n",
        "roc_auc = roc_auc_score(y_test, y_score)\n",
        "print(\"AUC : %0.3f\" % roc_auc)\n",
        "\n",
        "\n",
        "plt.rcParams['figure.figsize'] = [5, 4]\n",
        "plt.plot(false_positive_rate, true_positive_rate, label='ROC curve (area = %0.3f)' % roc_auc, color='red', linewidth=4.0)\n",
        "plt.plot([0,1], [0,1], 'k--')\n",
        "plt.xlim([0.0, 1.0])\n",
        "plt.ylim([0.0, 1.0])\n",
        "plt.xlabel('False Positive Rate')\n",
        "plt.ylabel('True Positive Rate')\n",
        "plt.title('ROC curve')\n",
        "plt.legend(loc=\"lower right\")"
      ],
      "execution_count": null,
      "outputs": []
    },
    {
      "cell_type": "code",
      "metadata": {
        "id": "tYhixQ52aSiU",
        "colab_type": "code",
        "colab": {}
      },
      "source": [
        "\"\"\"\n",
        "# Feature importances\n",
        "features = [(df.columns[i], v) for i,v in enumerate(svm_model.feature_importances_)]\n",
        "features.sort(key=lambda x: x[1], reverse = True)\n",
        "for item in features[:10]:\n",
        "    print(\"{0}: {1:0.4f}\".format(item[0], item[1]))\n",
        "\"\"\""
      ],
      "execution_count": null,
      "outputs": []
    },
    {
      "cell_type": "code",
      "metadata": {
        "id": "INmCHb5Zll76",
        "colab_type": "code",
        "colab": {}
      },
      "source": [
        "import time\n",
        "start = time.time()  # 시작 시간 저장\n",
        " \n",
        " \n",
        "# 작업 코드\n",
        " \n",
        " \n",
        "print(\"time :\", time.time() - start)  # 현재시각 - 시작시간 = 실행 시간"
      ],
      "execution_count": null,
      "outputs": []
    },
    {
      "cell_type": "markdown",
      "metadata": {
        "id": "2U5KjwZYP0Dv",
        "colab_type": "text"
      },
      "source": [
        "# **lGBM**"
      ]
    },
    {
      "cell_type": "code",
      "metadata": {
        "id": "E-4yRFpiPzeB",
        "colab_type": "code",
        "colab": {}
      },
      "source": [
        "\n",
        "#LGBM #\n",
        "%%time\n",
        "LGBM = LGBMClassifier()\n",
        "LGBM.fit(x_train,y_train)"
      ],
      "execution_count": null,
      "outputs": []
    },
    {
      "cell_type": "code",
      "metadata": {
        "id": "qQV2MOEKQHm8",
        "colab_type": "code",
        "colab": {}
      },
      "source": [
        "\n",
        "y_score = LGBM.predict(x_test)\n",
        "print(\"Trained on {0} observations and scoring with {1} test samples.\".format(len(x_train), len(x_test)))\n",
        "print(\"Accuracy: {0:0.4f}\".format(accuracy_score(y_test, y_score)))\n",
        "print(\"F1 Score: {0:0.4f}\".format(f1_score(y_test, y_score)))\n",
        "print(\"Area under ROC curve: {0:0.4f}\".format(roc_auc_score(y_test, y_score)))"
      ],
      "execution_count": null,
      "outputs": []
    },
    {
      "cell_type": "code",
      "metadata": {
        "id": "viOqvAnOQI0r",
        "colab_type": "code",
        "colab": {}
      },
      "source": [
        "\n",
        "false_positive_rate, true_positive_rate, thresholds = roc_curve(y_test, y_score)\n",
        "roc_auc = roc_auc_score(y_test, y_score)\n",
        "print(\"AUC : %0.3f\" % roc_auc)\n",
        "\n",
        "\n",
        "plt.rcParams['figure.figsize'] = [5, 4]\n",
        "plt.plot(false_positive_rate, true_positive_rate, label='ROC curve (area = %0.3f)' % roc_auc, color='red', linewidth=4.0)\n",
        "plt.plot([0,1], [0,1], 'k--')\n",
        "plt.xlim([0.0, 1.0])\n",
        "plt.ylim([0.0, 1.0])\n",
        "plt.xlabel('False Positive Rate')\n",
        "plt.ylabel('True Positive Rate')\n",
        "plt.title('ROC curve')\n",
        "plt.legend(loc=\"lower right\")"
      ],
      "execution_count": null,
      "outputs": []
    },
    {
      "cell_type": "code",
      "metadata": {
        "id": "LlLr1voLaKmG",
        "colab_type": "code",
        "colab": {}
      },
      "source": [
        "# Feature importances\n",
        "features = [(df.columns[i], v) for i,v in enumerate(LGBM.feature_importances_)]\n",
        "features.sort(key=lambda x: x[1], reverse = True)\n",
        "for item in features[:10]:\n",
        "    print(\"{0}: {1:0.4f}\".format(item[0], item[1]))"
      ],
      "execution_count": null,
      "outputs": []
    },
    {
      "cell_type": "code",
      "metadata": {
        "id": "UqcvuFrJQKGU",
        "colab_type": "code",
        "colab": {}
      },
      "source": [
        "\n",
        "import time\n",
        "start = time.time()  # 시작 시간 저장\n",
        " \n",
        " \n",
        "# 작업 코드\n",
        " \n",
        " \n",
        "print(\"time :\", time.time() - start)  # 현재시각 - 시작시간 = 실행 시간"
      ],
      "execution_count": null,
      "outputs": []
    },
    {
      "cell_type": "markdown",
      "metadata": {
        "id": "XaztDQ9iQODj",
        "colab_type": "text"
      },
      "source": [
        "# **XgBoost-public**"
      ]
    },
    {
      "cell_type": "code",
      "metadata": {
        "id": "a3ZEz0mpQNhL",
        "colab_type": "code",
        "colab": {}
      },
      "source": [
        "import numpy as np\n",
        "import pandas as pd\n",
        "import seaborn as sns\n",
        "import matplotlib.pyplot as plt\n",
        "from sklearn.tree import DecisionTreeClassifier, export_graphviz\n",
        "from sklearn.model_selection import train_test_split\n",
        "from sklearn.preprocessing import LabelEncoder\n",
        "from sklearn import preprocessing\n",
        "from sklearn.metrics import accuracy_score, f1_score, roc_auc_score\n",
        "\n",
        "from sklearn.model_selection import KFold\n",
        "from sklearn.model_selection import GridSearchCV\n",
        "from sklearn.model_selection import cross_val_score\n",
        "from sklearn.preprocessing import LabelEncoder\n",
        "from sklearn.tree import DecisionTreeClassifier\n",
        "from sklearn.ensemble import AdaBoostClassifier\n",
        "from sklearn.ensemble import GradientBoostingClassifier\n",
        "from sklearn import metrics\n",
        "\n",
        "\n",
        "import xgboost as xgb\n",
        "from xgboost import XGBClassifier\n",
        "from xgboost import plot_importance\n",
        "import gc # for deleting unused variables\n",
        "%matplotlib inline\n",
        "\n",
        "#Creating Test Train Splits\n",
        "\n",
        "\n",
        "X_train,X_test,y_train,y_test =train_test_split(x,y,train_size=0.8,random_state=100)"
      ],
      "execution_count": null,
      "outputs": []
    },
    {
      "cell_type": "code",
      "metadata": {
        "id": "Q5DVJDucbK9I",
        "colab_type": "code",
        "colab": {}
      },
      "source": [
        "%%time\n",
        "#XgBoost\n",
        "xgb_model=XGBClassifier()\n",
        "xgb_model.fit(X_train,y_train)"
      ],
      "execution_count": null,
      "outputs": []
    },
    {
      "cell_type": "code",
      "metadata": {
        "id": "PHfaHAHabMbt",
        "colab_type": "code",
        "colab": {}
      },
      "source": [
        "y_score = xgb_model.predict(X_test)\n",
        "print(\"Trained on {0} observations and scoring with {1} test samples.\".format(len(X_train), len(X_test)))\n",
        "print(\"Accuracy: {0:0.4f}\".format(accuracy_score(y_test, y_score)))\n",
        "print(\"F1 Score: {0:0.4f}\".format(f1_score(y_test, y_score)))\n",
        "print(\"Area under ROC curve: {0:0.4f}\".format(roc_auc_score(y_test, y_score)))"
      ],
      "execution_count": null,
      "outputs": []
    },
    {
      "cell_type": "code",
      "metadata": {
        "id": "Frxnqm1WbQAF",
        "colab_type": "code",
        "colab": {}
      },
      "source": [
        "false_positive_rate, true_positive_rate, thresholds = roc_curve(y_test, y_score)\n",
        "roc_auc = roc_auc_score(y_test, y_score)\n",
        "print(\"AUC : %0.3f\" % roc_auc)\n",
        "\n",
        "\n",
        "plt.rcParams['figure.figsize'] = [5, 4]\n",
        "plt.plot(false_positive_rate, true_positive_rate, label='ROC curve (area = %0.3f)' % roc_auc, color='red', linewidth=4.0)\n",
        "plt.plot([0,1], [0,1], 'k--')\n",
        "plt.xlim([0.0, 1.0])\n",
        "plt.ylim([0.0, 1.0])\n",
        "plt.xlabel('False Positive Rate')\n",
        "plt.ylabel('True Positive Rate')\n",
        "plt.title('ROC curve')\n",
        "plt.legend(loc=\"lower right\")"
      ],
      "execution_count": null,
      "outputs": []
    },
    {
      "cell_type": "code",
      "metadata": {
        "id": "pIYJlmtXDkYH",
        "colab_type": "code",
        "colab": {}
      },
      "source": [
        "# Feature importances\n",
        "features = [(df.columns[i], v) for i,v in enumerate(xgb_model.feature_importances_)]\n",
        "features.sort(key=lambda x: x[1], reverse = True)\n",
        "for item in features[:10]:\n",
        "    print(\"{0}: {1:0.4f}\".format(item[0], item[1]))"
      ],
      "execution_count": null,
      "outputs": []
    },
    {
      "cell_type": "code",
      "metadata": {
        "id": "dQ5kryfmhBpT",
        "colab_type": "code",
        "colab": {}
      },
      "source": [
        "import time\n",
        "start = time.time()  # 시작 시간 저장\n",
        " \n",
        " \n",
        "# 작업 코드\n",
        " \n",
        " \n",
        "print(\"time :\", time.time() - start)  # 현재시각 - 시작시간 = 실행 시간"
      ],
      "execution_count": null,
      "outputs": []
    },
    {
      "cell_type": "markdown",
      "metadata": {
        "id": "faYrZSIoiGap",
        "colab_type": "text"
      },
      "source": [
        "# **ACC score**"
      ]
    },
    {
      "cell_type": "code",
      "metadata": {
        "id": "MrzUt9ANd5vp",
        "colab_type": "code",
        "colab": {}
      },
      "source": [
        "## which is the best model ##\n",
        "results = pd.DataFrame({\n",
        "    'Model': ['Support Vector Machines', 'KNN', 'Logistic Regression', \n",
        "              'Random Forest','Stochastic Gradient Decent'],\n",
        "    'Acc': [acc_svm_model, acc_knb_model, acc_log_reg, \n",
        "              acc_rmf_model,acc_sgd_model]\n",
        "    })\n",
        "\n",
        "result_df = results.sort_values(by='Acc', ascending=False)\n",
        "result_df = result_df.set_index('Acc')\n",
        "result_df"
      ],
      "execution_count": null,
      "outputs": []
    }
  ]
}