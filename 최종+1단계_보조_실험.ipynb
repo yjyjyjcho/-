{
  "nbformat": 4,
  "nbformat_minor": 0,
  "metadata": {
    "colab": {
      "name": "최종+1단계 보조 실험",
      "provenance": [],
      "authorship_tag": "ABX9TyN72mbbl1ax4Q2EW5oJyN6t",
      "include_colab_link": true
    },
    "kernelspec": {
      "name": "python3",
      "display_name": "Python 3"
    },
    "accelerator": "GPU"
  },
  "cells": [
    {
      "cell_type": "markdown",
      "metadata": {
        "id": "view-in-github",
        "colab_type": "text"
      },
      "source": [
        "<a href=\"https://colab.research.google.com/github/yjyjyjcho/graduation-paper_PNU/blob/master/%EC%B5%9C%EC%A2%85%2B1%EB%8B%A8%EA%B3%84_%EB%B3%B4%EC%A1%B0_%EC%8B%A4%ED%97%98.ipynb\" target=\"_parent\"><img src=\"https://colab.research.google.com/assets/colab-badge.svg\" alt=\"Open In Colab\"/></a>"
      ]
    },
    {
      "cell_type": "code",
      "metadata": {
        "id": "KrApnM0krAza",
        "colab_type": "code",
        "colab": {
          "base_uri": "https://localhost:8080/",
          "height": 71
        },
        "outputId": "78887f4c-540d-46fe-dce1-e9d597d88239"
      },
      "source": [
        "## library import ##\n",
        "import numpy as np\n",
        "import pandas as pd\n",
        "import seaborn as sns\n",
        "import matplotlib.pyplot as plt\n",
        "from sklearn.tree import DecisionTreeClassifier, export_graphviz\n",
        "\n",
        "from sklearn.ensemble import RandomForestClassifier\n",
        "from sklearn.model_selection import train_test_split\n",
        "from sklearn.preprocessing import LabelEncoder\n",
        "from sklearn import preprocessing\n",
        "from sklearn.model_selection import KFold\n",
        "from sklearn.model_selection import GridSearchCV\n",
        "from sklearn.model_selection import cross_val_score\n",
        "from sklearn.preprocessing import LabelEncoder\n",
        "from sklearn.tree import DecisionTreeClassifier\n",
        "from sklearn.ensemble import AdaBoostClassifier\n",
        "from sklearn.ensemble import GradientBoostingClassifier\n",
        "from sklearn import metrics\n",
        "import gc # for deleting unused variables\n",
        "\n",
        "\n",
        "import xgboost as xgb\n",
        "from xgboost import XGBClassifier\n",
        "from xgboost import plot_importance\n",
        "from sklearn.metrics import accuracy_score, f1_score, roc_auc_score\n",
        "import os\n",
        "for dirname, _, filenames in os.walk('/kaggle/input'):\n",
        "    for filename in filenames:\n",
        "        print(os.path.join(dirname, filename))\n",
        "        \n",
        "import warnings\n",
        "warnings.filterwarnings(\"ignore\", category=FutureWarning)\n",
        "experiment_result = pd.read_csv(\"train.csv\", sep = '\\t')\n",
        "## data import ##\n",
        "experiment_result = pd.read_csv(\"train.csv\")\n",
        "experiment_result = experiment_result.fillna('no') ## 결측치 -> no 로 처리 \n",
        "experiment_result.head()\n",
        "experiment_result['feedrate'] = experiment_result['feedrate'].astype(int) # object형을 int로 변환\n",
        "experiment_01 = pd.read_csv(\"experiment_01.csv\")\n",
        "experiment_result.astype({'feedrate':'int'}).dtypes\n",
        "\n",
        "#########creating data frame#################\n",
        "\n",
        "frames = list()\n",
        "experiment_result.astype({'feedrate':'int'}).dtypes\n",
        "#load files\n",
        "for i in range(1,19):\n",
        "    exp_number = '0' + str(i) if i < 10 else str(i)\n",
        "    frame = pd.read_csv(\"experiment_{}.csv\".format(exp_number))\n",
        "\n",
        "#load each experiment result\n",
        "    row = experiment_result[experiment_result['No'] == i] #행번호 붙이기\n",
        "\n",
        "#add experiment settings to features (feedrate, clamp pressure 데이터 붙이기)\n",
        "    frame['feedrate']=row.iloc[0]['feedrate'] \n",
        "    frame.astype({'feedrate':'int'}).dtypes\n",
        "    frame['clamp_pressure']=row.iloc[0]['clamp_pressure']\n",
        "    \n",
        "# Having label as 'tool_conidtion'\n",
        "    \n",
        "    frame['label'] = 1 if row.iloc[0]['tool_condition'] == 'worn' else 0 #마모 : 1, 미마모 : 0 라벨링 -> like 원핫인코딩\n",
        "    frames.append(frame)\n",
        "\n",
        "\n",
        "#encode 'Machining_Process'label to number #공작과정 라벨링\n",
        " \n",
        "#split df into train/test data\n",
        "\n",
        "#fit  & predict\n",
        "\n",
        "df = pd.concat(frames, ignore_index = True)\n",
        "df.head()\n",
        "df.astype({'feedrate':'int'}).dtypes\n",
        "df['feedrate'].astype('float')\n",
        "pd.to_numeric(df['feedrate'])\n",
        "## building ML model ##\n",
        "\n",
        "X=df.drop(columns=['label','X1_ActualPosition', 'X1_ActualVelocity', 'X1_ActualAcceleration',\n",
        "       'X1_CommandPosition', 'X1_CommandVelocity', 'X1_CommandAcceleration',\n",
        "       'X1_CurrentFeedback',\n",
        "       'X1_OutputVoltage', 'X1_OutputPower', 'Y1_ActualPosition',\n",
        "       'Y1_ActualVelocity', 'Y1_ActualAcceleration', 'Y1_CommandPosition',\n",
        "       'Y1_CommandVelocity', 'Y1_CommandAcceleration', 'Y1_CurrentFeedback',\n",
        "       'Y1_OutputVoltage',\n",
        "       'Y1_OutputPower', 'Z1_ActualVelocity',\n",
        "       'Z1_ActualAcceleration', 'Z1_CommandVelocity',\n",
        "       'Z1_CommandAcceleration', 'Z1_CurrentFeedback', 'Z1_DCBusVoltage',\n",
        "       'Z1_OutputCurrent', 'Z1_OutputVoltage', \n",
        "       'S1_ActualVelocity', 'S1_ActualAcceleration', 'S1_CommandPosition',\n",
        "       'S1_CommandVelocity', 'S1_CommandAcceleration', 'S1_CurrentFeedback',\n",
        "       'S1_OutputCurrent', 'S1_OutputVoltage',\n",
        "       'S1_OutputPower', 'S1_SystemInertia', 'M1_CURRENT_PROGRAM_NUMBER',\n",
        "       'M1_CURRENT_FEEDRATE', 'feedrate', 'clamp_pressure', 'Machining_Process' ],axis=1) #공작과정 삭제\n",
        "Y=np.array(df['label'])\n",
        "print('The dimension of X table is: ',X.shape,'\\n')\n",
        "print('The dimension of Y table is: ', Y.shape)\n",
        "\n",
        "## train/test split ##\n",
        "from sklearn.model_selection import train_test_split\n",
        "\n",
        "#divided into testing and training\n",
        "x_train, x_test, y_train, y_test = train_test_split(X, Y, test_size=0.25, random_state=42)\n",
        "\n",
        "from sklearn import linear_model\n",
        "from sklearn.dummy import DummyClassifier\n",
        "from sklearn.metrics import confusion_matrix, accuracy_score, precision_score, recall_score, f1_score, roc_curve, roc_auc_score \n",
        "from sklearn.linear_model import LogisticRegression\n",
        "from sklearn.ensemble import RandomForestClassifier\n",
        "from sklearn.linear_model import Perceptron\n",
        "from sklearn.linear_model import SGDClassifier\n",
        "from sklearn.tree import DecisionTreeClassifier, export_graphviz\n",
        "from sklearn.neighbors import KNeighborsClassifier\n",
        "from sklearn.svm import SVC, LinearSVC\n",
        "from sklearn.naive_bayes import GaussianNB\n",
        "from lightgbm import LGBMClassifier\n",
        "import gc # for deleting unused variables\n",
        "%matplotlib inline"
      ],
      "execution_count": 37,
      "outputs": [
        {
          "output_type": "stream",
          "text": [
            "The dimension of X table is:  (25286, 9) \n",
            "\n",
            "The dimension of Y table is:  (25286,)\n"
          ],
          "name": "stdout"
        }
      ]
    },
    {
      "cell_type": "code",
      "metadata": {
        "id": "P83N0pTArfEH",
        "colab_type": "code",
        "colab": {
          "base_uri": "https://localhost:8080/",
          "height": 53
        },
        "outputId": "c14d1a5f-2700-4e03-a90d-f682e44da022"
      },
      "source": [
        "\n",
        "#LGBM #\n",
        "%%time\n",
        "LGBM = LGBMClassifier()\n",
        "LGBM.fit(x_train,y_train)\n",
        "import time\n",
        "start = time.time()  # 시작 시간 저장\n",
        " \n",
        " \n"
      ],
      "execution_count": 38,
      "outputs": [
        {
          "output_type": "stream",
          "text": [
            "CPU times: user 385 ms, sys: 8.91 ms, total: 393 ms\n",
            "Wall time: 394 ms\n"
          ],
          "name": "stdout"
        }
      ]
    },
    {
      "cell_type": "code",
      "metadata": {
        "id": "ZWYQQK3BsvVO",
        "colab_type": "code",
        "colab": {
          "base_uri": "https://localhost:8080/",
          "height": 421
        },
        "outputId": "3dda4aef-6664-486e-feac-25aa37db7f3b"
      },
      "source": [
        "# 작업 코드\n",
        " \n",
        " \n",
        "print(\"time :\", time.time() - start)  # 현재시각 - 시작시간 = 실행 시간\n",
        "y_score = LGBM.predict(x_test)\n",
        "print(\"Trained on {0} observations and scoring with {1} test samples.\".format(len(x_train), len(x_test)))\n",
        "print(\"Accuracy: {0:0.4f}\".format(accuracy_score(y_test, y_score)))\n",
        "print(\"F1 Score: {0:0.4f}\".format(f1_score(y_test, y_score)))\n",
        "print(\"Area under ROC curve: {0:0.4f}\".format(roc_auc_score(y_test, y_score)))\n",
        "\n",
        "\n",
        "false_positive_rate, true_positive_rate, thresholds = roc_curve(y_test, y_score)\n",
        "roc_auc = roc_auc_score(y_test, y_score)\n",
        "print(\"AUC : %0.3f\" % roc_auc)\n",
        "\n",
        "\n",
        "plt.rcParams['figure.figsize'] = [5, 4]\n",
        "plt.plot(false_positive_rate, true_positive_rate, label='ROC curve (area = %0.3f)' % roc_auc, color='red', linewidth=4.0)\n",
        "plt.plot([0,1], [0,1], 'k--')\n",
        "plt.xlim([0.0, 1.0])\n",
        "plt.ylim([0.0, 1.0])\n",
        "plt.xlabel('False Positive Rate')\n",
        "plt.ylabel('True Positive Rate')\n",
        "plt.title('ROC curve')\n",
        "plt.legend(loc=\"lower right\")"
      ],
      "execution_count": 39,
      "outputs": [
        {
          "output_type": "stream",
          "text": [
            "time : 0.02067255973815918\n",
            "Trained on 18964 observations and scoring with 6322 test samples.\n",
            "Accuracy: 0.9924\n",
            "F1 Score: 0.9928\n",
            "Area under ROC curve: 0.9923\n",
            "AUC : 0.992\n"
          ],
          "name": "stdout"
        },
        {
          "output_type": "execute_result",
          "data": {
            "text/plain": [
              "<matplotlib.legend.Legend at 0x7f7c3e411400>"
            ]
          },
          "metadata": {
            "tags": []
          },
          "execution_count": 39
        },
        {
          "output_type": "display_data",
          "data": {
            "image/png": "[encoded data removed]",
            "text/plain": [
              "<Figure size 360x288 with 1 Axes>"
            ]
          },
          "metadata": {
            "tags": [],
            "needs_background": "light"
          }
        }
      ]
    },
    {
      "cell_type": "code",
      "metadata": {
        "id": "brVj8AiKrodI",
        "colab_type": "code",
        "colab": {}
      },
      "source": [
        ""
      ],
      "execution_count": 39,
      "outputs": []
    },
    {
      "cell_type": "code",
      "metadata": {
        "id": "YXhFumsmrSqU",
        "colab_type": "code",
        "colab": {}
      },
      "source": [
        ""
      ],
      "execution_count": 39,
      "outputs": []
    }
  ]
}