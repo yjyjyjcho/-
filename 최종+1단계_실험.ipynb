{
  "nbformat": 4,
  "nbformat_minor": 0,
  "metadata": {
    "colab": {
      "name": "최종+1단계 실험",
      "provenance": [],
      "authorship_tag": "ABX9TyMYdb9tNc+pTsc88jS0cJAr",
      "include_colab_link": true
    },
    "kernelspec": {
      "name": "python3",
      "display_name": "Python 3"
    },
    "accelerator": "GPU"
  },
  "cells": [
    {
      "cell_type": "markdown",
      "metadata": {
        "id": "view-in-github",
        "colab_type": "text"
      },
      "source": [
        "<a href=\"https://colab.research.google.com/github/yjyjyjcho/graduation-paper_PNU/blob/master/%EC%B5%9C%EC%A2%85%2B1%EB%8B%A8%EA%B3%84_%EC%8B%A4%ED%97%98.ipynb\" target=\"_parent\"><img src=\"https://colab.research.google.com/assets/colab-badge.svg\" alt=\"Open In Colab\"/></a>"
      ]
    },
    {
      "cell_type": "code",
      "metadata": {
        "id": "KrApnM0krAza",
        "colab_type": "code",
        "colab": {
          "base_uri": "https://localhost:8080/",
          "height": 71
        },
        "outputId": "fd2abd02-e3b1-4a5a-a58a-2af42c4a6a5c"
      },
      "source": [
        "## library import ##\n",
        "import numpy as np\n",
        "import pandas as pd\n",
        "import seaborn as sns\n",
        "import matplotlib.pyplot as plt\n",
        "from sklearn.tree import DecisionTreeClassifier, export_graphviz\n",
        "\n",
        "from sklearn.ensemble import RandomForestClassifier\n",
        "from sklearn.model_selection import train_test_split\n",
        "from sklearn.preprocessing import LabelEncoder\n",
        "from sklearn import preprocessing\n",
        "from sklearn.model_selection import KFold\n",
        "from sklearn.model_selection import GridSearchCV\n",
        "from sklearn.model_selection import cross_val_score\n",
        "from sklearn.preprocessing import LabelEncoder\n",
        "from sklearn.tree import DecisionTreeClassifier\n",
        "from sklearn.ensemble import AdaBoostClassifier\n",
        "from sklearn.ensemble import GradientBoostingClassifier\n",
        "from sklearn import metrics\n",
        "import gc # for deleting unused variables\n",
        "\n",
        "\n",
        "import xgboost as xgb\n",
        "from xgboost import XGBClassifier\n",
        "from xgboost import plot_importance\n",
        "from sklearn.metrics import accuracy_score, f1_score, roc_auc_score\n",
        "import os\n",
        "for dirname, _, filenames in os.walk('/kaggle/input'):\n",
        "    for filename in filenames:\n",
        "        print(os.path.join(dirname, filename))\n",
        "        \n",
        "import warnings\n",
        "warnings.filterwarnings(\"ignore\", category=FutureWarning)\n",
        "experiment_result = pd.read_csv(\"train.csv\", sep = '\\t')\n",
        "## data import ##\n",
        "experiment_result = pd.read_csv(\"train.csv\")\n",
        "experiment_result = experiment_result.fillna('no') ## 결측치 -> no 로 처리 \n",
        "experiment_result.head()\n",
        "experiment_result['feedrate'] = experiment_result['feedrate'].astype(int) # object형을 int로 변환\n",
        "experiment_01 = pd.read_csv(\"experiment_01.csv\")\n",
        "experiment_result.astype({'feedrate':'int'}).dtypes\n",
        "#########creating data frame#################\n",
        "\n",
        "frames = list()\n",
        "experiment_result.astype({'feedrate':'int'}).dtypes\n",
        "#load files\n",
        "for i in range(1,19):\n",
        "    exp_number = '0' + str(i) if i < 10 else str(i)\n",
        "    frame = pd.read_csv(\"experiment_{}.csv\".format(exp_number))\n",
        "\n",
        "#load each experiment result\n",
        "    row = experiment_result[experiment_result['No'] == i] #행번호 붙이기\n",
        "\n",
        "#add experiment settings to features (feedrate, clamp pressure 데이터 붙이기)\n",
        "    frame['feedrate']=row.iloc[0]['feedrate'] \n",
        "    frame.astype({'feedrate':'int'}).dtypes\n",
        "    frame['clamp_pressure']=row.iloc[0]['clamp_pressure']\n",
        "    \n",
        "# Having label as 'tool_conidtion'\n",
        "    \n",
        "    frame['label'] = 1 if row.iloc[0]['tool_condition'] == 'worn' else 0 #마모 : 1, 미마모 : 0 라벨링 -> like 원핫인코딩\n",
        "    frames.append(frame)\n",
        "\n",
        "#encode 'Machining_Process'label to number #공작과정 라벨링\n",
        " \n",
        "#split df into train/test data\n",
        "\n",
        "#fit  & predict\n",
        "\n",
        "df = pd.concat(frames, ignore_index = True)\n",
        "df.head()\n",
        "df.astype({'feedrate':'int'}).dtypes\n",
        "df['feedrate'].astype('float')\n",
        "pd.to_numeric(df['feedrate'])\n",
        "## building ML model ##\n",
        "\n",
        "X=df.drop(columns=['label', 'X1_ActualVelocity',\n",
        "       'X1_CommandPosition', 'X1_CommandVelocity', 'X1_CommandAcceleration',\n",
        "       'X1_CurrentFeedback', 'X1_DCBusVoltage', \n",
        "        'X1_OutputPower', 'Y1_ActualPosition',\n",
        "       'Y1_ActualVelocity', 'Y1_ActualAcceleration', 'Y1_CommandPosition',\n",
        "       'Y1_CommandVelocity', 'Y1_CommandAcceleration', 'Y1_CurrentFeedback',\n",
        "       'Y1_OutputPower', 'Z1_ActualVelocity',\n",
        "       'Z1_ActualAcceleration',\n",
        "       'Z1_CommandAcceleration', 'Z1_CurrentFeedback',\n",
        "        \n",
        "       'S1_ActualVelocity', 'S1_ActualAcceleration',\n",
        "       'S1_CommandVelocity', 'S1_CommandAcceleration', 'S1_CurrentFeedback',\n",
        "       'S1_OutputPower', 'S1_SystemInertia', 'M1_CURRENT_PROGRAM_NUMBER', 'Machining_Process',\n",
        "         'clamp_pressure' ],axis=1) #공작과정 삭제\n",
        "Y=np.array(df['label'])\n",
        "print('The dimension of X table is: ',X.shape,'\\n')\n",
        "print('The dimension of Y table is: ', Y.shape)\n",
        "\n",
        "## train/test split ##\n",
        "from sklearn.model_selection import train_test_split\n",
        "\n",
        "#divided into testing and training\n",
        "x_train, x_test, y_train, y_test = train_test_split(X, Y, test_size=0.25, random_state=42)\n",
        "\n",
        "from sklearn import linear_model\n",
        "from sklearn.dummy import DummyClassifier\n",
        "from sklearn.metrics import confusion_matrix, accuracy_score, precision_score, recall_score, f1_score, roc_curve, roc_auc_score \n",
        "from sklearn.linear_model import LogisticRegression\n",
        "from sklearn.ensemble import RandomForestClassifier\n",
        "from sklearn.linear_model import Perceptron\n",
        "from sklearn.linear_model import SGDClassifier\n",
        "from sklearn.tree import DecisionTreeClassifier, export_graphviz\n",
        "from sklearn.neighbors import KNeighborsClassifier\n",
        "from sklearn.svm import SVC, LinearSVC\n",
        "from sklearn.naive_bayes import GaussianNB\n",
        "from lightgbm import LGBMClassifier\n",
        "import gc # for deleting unused variables\n",
        "%matplotlib inline"
      ],
      "execution_count": 24,
      "outputs": [
        {
          "output_type": "stream",
          "text": [
            "The dimension of X table is:  (25286, 21) \n",
            "\n",
            "The dimension of Y table is:  (25286,)\n"
          ],
          "name": "stdout"
        }
      ]
    },
    {
      "cell_type": "code",
      "metadata": {
        "id": "cWzDSS2KrbAe",
        "colab_type": "code",
        "colab": {
          "base_uri": "https://localhost:8080/",
          "height": 53
        },
        "outputId": "5627082b-b967-49e7-ec9b-e103d428bad7"
      },
      "source": [
        "## random forest ##\n",
        "%%time\n",
        "rmf_model=RandomForestClassifier()\n",
        "rmf_model.fit(x_train,y_train)\n",
        "import time\n",
        "start = time.time()  # 시작 시간 저장\n",
        " \n",
        " \n"
      ],
      "execution_count": 25,
      "outputs": [
        {
          "output_type": "stream",
          "text": [
            "CPU times: user 2.15 s, sys: 956 µs, total: 2.15 s\n",
            "Wall time: 2.15 s\n"
          ],
          "name": "stdout"
        }
      ]
    },
    {
      "cell_type": "code",
      "metadata": {
        "id": "t7_3O-ZrsoPt",
        "colab_type": "code",
        "colab": {
          "base_uri": "https://localhost:8080/",
          "height": 421
        },
        "outputId": "156c5ccc-237f-42bb-f7db-0bed1849c1ac"
      },
      "source": [
        "# 작업 코드\n",
        " \n",
        " \n",
        "print(\"time :\", time.time() - start)  # 현재시각 - 시작시간 = 실행 시간\n",
        "y_score = rmf_model.predict(x_test)\n",
        "print(\"Trained on {0} observations and scoring with {1} test samples.\".format(len(x_train), len(x_test)))\n",
        "print(\"Accuracy: {0:0.4f}\".format(accuracy_score(y_test, y_score)))\n",
        "print(\"F1 Score: {0:0.4f}\".format(f1_score(y_test, y_score)))\n",
        "print(\"Area under ROC curve: {0:0.4f}\".format(roc_auc_score(y_test, y_score)))\n",
        "\n",
        "false_positive_rate, true_positive_rate, thresholds = roc_curve(y_test, y_score)\n",
        "roc_auc = roc_auc_score(y_test, y_score)\n",
        "print(\"AUC : %0.3f\" % roc_auc)\n",
        "\n",
        "\n",
        "plt.rcParams['figure.figsize'] = [5, 4]\n",
        "plt.plot(false_positive_rate, true_positive_rate, label='ROC curve (area = %0.3f)' % roc_auc, color='red', linewidth=4.0)\n",
        "plt.plot([0,1], [0,1], 'k--')\n",
        "plt.xlim([0.0, 1.0])\n",
        "plt.ylim([0.0, 1.0])\n",
        "plt.xlabel('False Positive Rate')\n",
        "plt.ylabel('True Positive Rate')\n",
        "plt.title('ROC curve')\n",
        "plt.legend(loc=\"lower right\")"
      ],
      "execution_count": 26,
      "outputs": [
        {
          "output_type": "stream",
          "text": [
            "time : 0.02610182762145996\n",
            "Trained on 18964 observations and scoring with 6322 test samples.\n",
            "Accuracy: 0.9945\n",
            "F1 Score: 0.9948\n",
            "Area under ROC curve: 0.9943\n",
            "AUC : 0.994\n"
          ],
          "name": "stdout"
        },
        {
          "output_type": "execute_result",
          "data": {
            "text/plain": [
              "<matplotlib.legend.Legend at 0x7f7c40d79b70>"
            ]
          },
          "metadata": {
            "tags": []
          },
          "execution_count": 26
        },
        {
          "output_type": "display_data",
          "data": {
            "image/png": "[encoded data removed]",
            "text/plain": [
              "<Figure size 360x288 with 1 Axes>"
            ]
          },
          "metadata": {
            "tags": [],
            "needs_background": "light"
          }
        }
      ]
    },
    {
      "cell_type": "code",
      "metadata": {
        "id": "P83N0pTArfEH",
        "colab_type": "code",
        "colab": {
          "base_uri": "https://localhost:8080/",
          "height": 53
        },
        "outputId": "0250215c-b57e-460a-d4c5-1063ac098188"
      },
      "source": [
        "\n",
        "#LGBM #\n",
        "%%time\n",
        "LGBM = LGBMClassifier()\n",
        "LGBM.fit(x_train,y_train)\n",
        "import time\n",
        "start = time.time()  # 시작 시간 저장\n",
        " \n",
        " \n"
      ],
      "execution_count": 27,
      "outputs": [
        {
          "output_type": "stream",
          "text": [
            "CPU times: user 592 ms, sys: 10 ms, total: 602 ms\n",
            "Wall time: 602 ms\n"
          ],
          "name": "stdout"
        }
      ]
    },
    {
      "cell_type": "code",
      "metadata": {
        "id": "ZWYQQK3BsvVO",
        "colab_type": "code",
        "colab": {
          "base_uri": "https://localhost:8080/",
          "height": 421
        },
        "outputId": "86340415-a441-498a-e4d6-4e5acc85799d"
      },
      "source": [
        "# 작업 코드\n",
        " \n",
        " \n",
        "print(\"time :\", time.time() - start)  # 현재시각 - 시작시간 = 실행 시간\n",
        "y_score = LGBM.predict(x_test)\n",
        "print(\"Trained on {0} observations and scoring with {1} test samples.\".format(len(x_train), len(x_test)))\n",
        "print(\"Accuracy: {0:0.4f}\".format(accuracy_score(y_test, y_score)))\n",
        "print(\"F1 Score: {0:0.4f}\".format(f1_score(y_test, y_score)))\n",
        "print(\"Area under ROC curve: {0:0.4f}\".format(roc_auc_score(y_test, y_score)))\n",
        "\n",
        "\n",
        "false_positive_rate, true_positive_rate, thresholds = roc_curve(y_test, y_score)\n",
        "roc_auc = roc_auc_score(y_test, y_score)\n",
        "print(\"AUC : %0.3f\" % roc_auc)\n",
        "\n",
        "\n",
        "plt.rcParams['figure.figsize'] = [5, 4]\n",
        "plt.plot(false_positive_rate, true_positive_rate, label='ROC curve (area = %0.3f)' % roc_auc, color='red', linewidth=4.0)\n",
        "plt.plot([0,1], [0,1], 'k--')\n",
        "plt.xlim([0.0, 1.0])\n",
        "plt.ylim([0.0, 1.0])\n",
        "plt.xlabel('False Positive Rate')\n",
        "plt.ylabel('True Positive Rate')\n",
        "plt.title('ROC curve')\n",
        "plt.legend(loc=\"lower right\")"
      ],
      "execution_count": 28,
      "outputs": [
        {
          "output_type": "stream",
          "text": [
            "time : 0.02130413055419922\n",
            "Trained on 18964 observations and scoring with 6322 test samples.\n",
            "Accuracy: 0.9960\n",
            "F1 Score: 0.9963\n",
            "Area under ROC curve: 0.9960\n",
            "AUC : 0.996\n"
          ],
          "name": "stdout"
        },
        {
          "output_type": "execute_result",
          "data": {
            "text/plain": [
              "<matplotlib.legend.Legend at 0x7f7c3e68aeb8>"
            ]
          },
          "metadata": {
            "tags": []
          },
          "execution_count": 28
        },
        {
          "output_type": "display_data",
          "data": {
            "image/png": "[encoded data removed]",
            "text/plain": [
              "<Figure size 360x288 with 1 Axes>"
            ]
          },
          "metadata": {
            "tags": [],
            "needs_background": "light"
          }
        }
      ]
    },
    {
      "cell_type": "code",
      "metadata": {
        "id": "brVj8AiKrodI",
        "colab_type": "code",
        "colab": {}
      },
      "source": [
        ""
      ],
      "execution_count": 28,
      "outputs": []
    },
    {
      "cell_type": "code",
      "metadata": {
        "id": "YXhFumsmrSqU",
        "colab_type": "code",
        "colab": {}
      },
      "source": [
        ""
      ],
      "execution_count": 28,
      "outputs": []
    }
  ]
}